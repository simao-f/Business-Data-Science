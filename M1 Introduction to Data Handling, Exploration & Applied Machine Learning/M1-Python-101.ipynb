{
  "cells": [
    {
      "cell_type": "markdown",
      "metadata": {
        "id": "view-in-github",
        "colab_type": "text"
      },
      "source": [
        "<a href=\"https://colab.research.google.com/github/simao-f/Business-Data-Science/blob/main/M1%20Introduction%20to%20Data%20Handling%2C%20Exploration%20%26%20Applied%20Machine%20Learning/M1-Python-101.ipynb\" target=\"_parent\"><img src=\"https://colab.research.google.com/assets/colab-badge.svg\" alt=\"Open In Colab\"/></a>"
      ]
    },
    {
      "cell_type": "markdown",
      "metadata": {
        "id": "KtbkJ9BibahG"
      },
      "source": [
        "# Preface\n",
        "\n",
        "## Why Python?\n",
        "1. General purpose language - add what you need\n",
        "2. Portable (Linux, Windows, Mac)\n",
        "3. Interactive\n",
        "4. Free\n",
        "5. Community and eco-system\n",
        "6. Easy to use\n",
        "\n",
        "## Working with Python\n",
        "Workflows - many - find your own! In this course - Jupyter notebook and Pandas:\n",
        "* Python + Jupyter notebook + Pandas = A complete environment\n",
        "* Interactive\n",
        "* Encourage an iterative work process (research?)\n",
        "* Documentation, code and visualization in one - literate programming\n",
        "* Reproducing results and figures"
      ]
    },
    {
      "cell_type": "markdown",
      "metadata": {
        "id": "kvEzWWOdfD3L"
      },
      "source": [
        "# Introduction\n",
        "\n",
        "In this session, you will learn the basic Python syntax for data manipulation & analysis, including:\n",
        "\n",
        "1. General syntax\n",
        "2. basic operations\n",
        "3. Object & data types\n",
        "4. Flow controls\n",
        "\n",
        "\n"
      ]
    },
    {
      "cell_type": "code",
      "execution_count": null,
      "metadata": {
        "id": "1IFxzzzd-hRl"
      },
      "outputs": [],
      "source": [
        "import numpy as np # Basic library for all kind of numerical operations\n",
        "import pandas as pd # Basic library for data manipulation in dataframes"
      ]
    },
    {
      "cell_type": "markdown",
      "metadata": {
        "id": "f_alePJD__y2"
      },
      "source": [
        "# Basics"
      ]
    },
    {
      "cell_type": "markdown",
      "metadata": {
        "id": "lQn7xy7NcN_X"
      },
      "source": [
        "## The very basics"
      ]
    },
    {
      "cell_type": "code",
      "execution_count": null,
      "metadata": {
        "colab": {
          "base_uri": "https://localhost:8080/"
        },
        "id": "7kIK1Mvmc1c8",
        "outputId": "ced5523c-65cf-4896-c38b-649cfd63d83f"
      },
      "outputs": [
        {
          "name": "stdout",
          "output_type": "stream",
          "text": [
            "Hello world\n"
          ]
        }
      ],
      "source": [
        "# Running a cell (Ctrl-Enter, Shift-Enter)\n",
        "print('Hello world')"
      ]
    },
    {
      "cell_type": "markdown",
      "metadata": {
        "id": "2RSD1OrvgrX7"
      },
      "source": [
        "## Variables"
      ]
    },
    {
      "cell_type": "code",
      "execution_count": null,
      "metadata": {
        "colab": {
          "base_uri": "https://localhost:8080/"
        },
        "id": "ArYdCkfFgowf",
        "outputId": "c07df037-c635-4531-8af6-604daec84285"
      },
      "outputs": [
        {
          "name": "stdout",
          "output_type": "stream",
          "text": [
            "6 <class 'int'>\n"
          ]
        }
      ],
      "source": [
        "i = 6\n",
        "print(i, type(i))"
      ]
    },
    {
      "cell_type": "code",
      "execution_count": null,
      "metadata": {
        "colab": {
          "base_uri": "https://localhost:8080/"
        },
        "id": "vhpLs-tcgtgo",
        "outputId": "556becbd-6901-4a02-e871-a0220d00ceaf"
      },
      "outputs": [
        {
          "name": "stdout",
          "output_type": "stream",
          "text": [
            "3.2 <class 'float'>\n"
          ]
        }
      ],
      "source": [
        "x = 3.2\n",
        "print(x, type(x))"
      ]
    },
    {
      "cell_type": "code",
      "execution_count": null,
      "metadata": {
        "colab": {
          "base_uri": "https://localhost:8080/"
        },
        "id": "NN6XM_vogtua",
        "outputId": "ea39d4da-79e9-4132-a460-828df755b2e8"
      },
      "outputs": [
        {
          "name": "stdout",
          "output_type": "stream",
          "text": [
            "Hello <class 'str'>\n"
          ]
        }
      ],
      "source": [
        "s = 'Hello'\n",
        "print(s, type(s))"
      ]
    },
    {
      "cell_type": "markdown",
      "metadata": {
        "id": "SA_-aL_zADsC"
      },
      "source": [
        "## Value assignment & evaluation"
      ]
    },
    {
      "cell_type": "code",
      "execution_count": null,
      "metadata": {
        "colab": {
          "base_uri": "https://localhost:8080/"
        },
        "id": "0-t9pGVUAKjU",
        "outputId": "cf278d62-715c-4382-cd12-644f599f7361"
      },
      "outputs": [
        {
          "name": "stdout",
          "output_type": "stream",
          "text": [
            "We asigned x the value of  3\n"
          ]
        }
      ],
      "source": [
        "x = 3         # Assignment\n",
        "print('We asigned x the value of ', x)              # Evaluate the expression and print result"
      ]
    },
    {
      "cell_type": "code",
      "execution_count": null,
      "metadata": {
        "colab": {
          "base_uri": "https://localhost:8080/"
        },
        "id": "pu7VxewCAYHg",
        "outputId": "e4ab7ff8-7032-4802-9997-3e160d8b2fda"
      },
      "outputs": [
        {
          "data": {
            "text/plain": [
              "9"
            ]
          },
          "execution_count": 9,
          "metadata": {},
          "output_type": "execute_result"
        }
      ],
      "source": [
        "y = 4         # Assignment\n",
        "y + 5         # Evaluation, y remains 4"
      ]
    },
    {
      "cell_type": "code",
      "execution_count": null,
      "metadata": {
        "colab": {
          "base_uri": "https://localhost:8080/"
        },
        "id": "TCMZxZIHAf66",
        "outputId": "6d3e6de8-bc6c-48bc-bfb5-c9c29e7790c1"
      },
      "outputs": [
        {
          "data": {
            "text/plain": [
              "71"
            ]
          },
          "execution_count": 21,
          "metadata": {},
          "output_type": "execute_result"
        }
      ],
      "source": [
        "z = x + 17*y  # Assignment\n",
        "z             # Evaluation"
      ]
    },
    {
      "cell_type": "code",
      "execution_count": null,
      "metadata": {
        "colab": {
          "base_uri": "https://localhost:8080/"
        },
        "id": "VTOQsI726_3t",
        "outputId": "8009a1f2-90ab-4aec-b6b4-4d9c2a0e7ae1"
      },
      "outputs": [
        {
          "name": "stdout",
          "output_type": "stream",
          "text": [
            "10.0 16.0 6.0 4.0 4.0 12.0 100.0\n"
          ]
        }
      ],
      "source": [
        "# basic mathematical operations\n",
        "print(x+y, x*y, x-y, x/y, a**2, x+y**2, (x+y)**2)"
      ]
    },
    {
      "cell_type": "markdown",
      "metadata": {
        "id": "VGcSo_VAA0qZ"
      },
      "source": [
        "## Value comparison\n",
        "\n",
        "Comparisons return boolean values: True or False"
      ]
    },
    {
      "cell_type": "code",
      "execution_count": null,
      "metadata": {
        "colab": {
          "base_uri": "https://localhost:8080/"
        },
        "id": "d3Yl4nGYA3wB",
        "outputId": "4f54c56d-5b7d-4c24-cc39-c29e5c40a636"
      },
      "outputs": [
        {
          "data": {
            "text/plain": [
              "True"
            ]
          },
          "execution_count": 104,
          "metadata": {},
          "output_type": "execute_result"
        }
      ],
      "source": [
        "2==2  # Equality"
      ]
    },
    {
      "cell_type": "code",
      "execution_count": null,
      "metadata": {
        "colab": {
          "base_uri": "https://localhost:8080/"
        },
        "id": "1qJE0LBoBPX1",
        "outputId": "143ed944-f3e9-4654-eebd-4fd6cabf2cdb"
      },
      "outputs": [
        {
          "data": {
            "text/plain": [
              "False"
            ]
          },
          "execution_count": 105,
          "metadata": {},
          "output_type": "execute_result"
        }
      ],
      "source": [
        "2!=2  # Inequality"
      ]
    },
    {
      "cell_type": "code",
      "execution_count": null,
      "metadata": {
        "colab": {
          "base_uri": "https://localhost:8080/"
        },
        "id": "3wi-1BnuBSPa",
        "outputId": "fbe8f3d0-6095-48ed-c10b-6b49367655b4"
      },
      "outputs": [
        {
          "data": {
            "text/plain": [
              "True"
            ]
          },
          "execution_count": 24,
          "metadata": {},
          "output_type": "execute_result"
        }
      ],
      "source": [
        "x <= y # less than or equal: \"<\", \">\", and \">=\" also work"
      ]
    },
    {
      "cell_type": "code",
      "execution_count": null,
      "metadata": {
        "colab": {
          "base_uri": "https://localhost:8080/"
        },
        "id": "P89TgvrPBWxe",
        "outputId": "ce8c9b98-cd74-4aa5-e9cc-9cda2a1fa3da"
      },
      "outputs": [
        {
          "data": {
            "text/plain": [
              "True"
            ]
          },
          "execution_count": 25,
          "metadata": {},
          "output_type": "execute_result"
        }
      ],
      "source": [
        "(x | z) >= y"
      ]
    },
    {
      "cell_type": "code",
      "execution_count": null,
      "metadata": {
        "colab": {
          "base_uri": "https://localhost:8080/"
        },
        "id": "vMqgnfb6BjpJ",
        "outputId": "b415d655-55d0-4446-ad65-37ddb86a7b6d"
      },
      "outputs": [
        {
          "data": {
            "text/plain": [
              "False"
            ]
          },
          "execution_count": 26,
          "metadata": {},
          "output_type": "execute_result"
        }
      ],
      "source": [
        "(x & z) >= y"
      ]
    },
    {
      "cell_type": "code",
      "execution_count": null,
      "metadata": {
        "colab": {
          "base_uri": "https://localhost:8080/"
        },
        "id": "vuN5mzJF7jwI",
        "outputId": "caff30a8-14bf-48f3-b843-ca3af71ab6a2"
      },
      "outputs": [
        {
          "data": {
            "text/plain": [
              "False"
            ]
          },
          "execution_count": 116,
          "metadata": {},
          "output_type": "execute_result"
        }
      ],
      "source": [
        "x + z / 50 < y"
      ]
    },
    {
      "cell_type": "markdown",
      "metadata": {
        "id": "xhOIe6OBFRGq"
      },
      "source": [
        "## Special Constraints, NA, NaN, Inf"
      ]
    },
    {
      "cell_type": "code",
      "execution_count": null,
      "metadata": {
        "colab": {
          "base_uri": "https://localhost:8080/"
        },
        "id": "GXqrpWifFYHE",
        "outputId": "e5c0b34f-f5a6-474e-8539-fe3a25a9a8f9"
      },
      "outputs": [
        {
          "name": "stdout",
          "output_type": "stream",
          "text": [
            "[1, None, 3]\n"
          ]
        }
      ],
      "source": [
        "print([1, None, 3])"
      ]
    },
    {
      "cell_type": "markdown",
      "metadata": {
        "id": "0rI1htgCdFeE"
      },
      "source": [
        "## Importing\n",
        "We need to import libraries or only parts of libraries all the time. Use name-conventions when doing so"
      ]
    },
    {
      "cell_type": "code",
      "execution_count": null,
      "metadata": {
        "id": "pUb54cSJdYSN"
      },
      "outputs": [],
      "source": [
        "from math import sqrt"
      ]
    },
    {
      "cell_type": "code",
      "execution_count": null,
      "metadata": {
        "colab": {
          "base_uri": "https://localhost:8080/"
        },
        "id": "ACaBX2SxdZ0G",
        "outputId": "3c75bbae-f987-4ae9-8a17-a4da7bec5a72"
      },
      "outputs": [
        {
          "name": "stdout",
          "output_type": "stream",
          "text": [
            "3.605551275463989\n"
          ]
        }
      ],
      "source": [
        "a = 2\n",
        "b = 3\n",
        "\n",
        "c = sqrt(a**2 + b**2)\n",
        "print(c)"
      ]
    },
    {
      "cell_type": "markdown",
      "metadata": {
        "id": "sH8DDa-nd69x"
      },
      "source": [
        "## Functions\n",
        "* Define a function\n",
        "* Function name: pythagoras\n",
        "* Arguments: a, b\n",
        "* Indentation using tab (4 spaces) for the whole function\n",
        "* `return` statement"
      ]
    },
    {
      "cell_type": "code",
      "execution_count": null,
      "metadata": {
        "id": "OD4U4QzEeD3k"
      },
      "outputs": [],
      "source": [
        "#@title\n",
        "def pythagoras(a, b):\n",
        "    return sqrt(a**2 + b**2) # Notice the tab!"
      ]
    },
    {
      "cell_type": "code",
      "execution_count": null,
      "metadata": {
        "colab": {
          "base_uri": "https://localhost:8080/"
        },
        "id": "eAD1TqLWeNez",
        "outputId": "7f3938bb-3490-4add-eab5-b10ce9d47e15"
      },
      "outputs": [
        {
          "name": "stdout",
          "output_type": "stream",
          "text": [
            "<function pythagoras at 0x7fa0dd8877a0>\n"
          ]
        }
      ],
      "source": [
        "#@title\n",
        "print(pythagoras)"
      ]
    },
    {
      "cell_type": "code",
      "execution_count": null,
      "metadata": {
        "colab": {
          "base_uri": "https://localhost:8080/"
        },
        "id": "b2swzQj8eRfz",
        "outputId": "5e99ee47-4eea-4236-afc9-52a464d9ae1d"
      },
      "outputs": [
        {
          "name": "stdout",
          "output_type": "stream",
          "text": [
            "3.605551275463989\n"
          ]
        }
      ],
      "source": [
        "#@title\n",
        "c = pythagoras(a, b)\n",
        "print(c)"
      ]
    },
    {
      "cell_type": "code",
      "execution_count": null,
      "metadata": {
        "colab": {
          "base_uri": "https://localhost:8080/",
          "height": 175
        },
        "id": "MyZrAIly8fFQ",
        "outputId": "a1776467-14e2-486b-b23e-c64f615d0070"
      },
      "outputs": [
        {
          "data": {
            "text/html": [
              "\n",
              "  <div id=\"df-788a97a2-d136-4662-a90f-9dd592c56546\">\n",
              "    <div class=\"colab-df-container\">\n",
              "      <div>\n",
              "<style scoped>\n",
              "    .dataframe tbody tr th:only-of-type {\n",
              "        vertical-align: middle;\n",
              "    }\n",
              "\n",
              "    .dataframe tbody tr th {\n",
              "        vertical-align: top;\n",
              "    }\n",
              "\n",
              "    .dataframe thead th {\n",
              "        text-align: right;\n",
              "    }\n",
              "</style>\n",
              "<table border=\"1\" class=\"dataframe\">\n",
              "  <thead>\n",
              "    <tr style=\"text-align: right;\">\n",
              "      <th></th>\n",
              "      <th>0</th>\n",
              "      <th>1</th>\n",
              "    </tr>\n",
              "  </thead>\n",
              "  <tbody>\n",
              "    <tr>\n",
              "      <th>0</th>\n",
              "      <td>2</td>\n",
              "      <td>4</td>\n",
              "    </tr>\n",
              "    <tr>\n",
              "      <th>1</th>\n",
              "      <td>6</td>\n",
              "      <td>7</td>\n",
              "    </tr>\n",
              "    <tr>\n",
              "      <th>2</th>\n",
              "      <td>8</td>\n",
              "      <td>9</td>\n",
              "    </tr>\n",
              "    <tr>\n",
              "      <th>3</th>\n",
              "      <td>1</td>\n",
              "      <td>6</td>\n",
              "    </tr>\n",
              "  </tbody>\n",
              "</table>\n",
              "</div>\n",
              "      <button class=\"colab-df-convert\" onclick=\"convertToInteractive('df-788a97a2-d136-4662-a90f-9dd592c56546')\"\n",
              "              title=\"Convert this dataframe to an interactive table.\"\n",
              "              style=\"display:none;\">\n",
              "        \n",
              "  <svg xmlns=\"http://www.w3.org/2000/svg\" height=\"24px\"viewBox=\"0 0 24 24\"\n",
              "       width=\"24px\">\n",
              "    <path d=\"M0 0h24v24H0V0z\" fill=\"none\"/>\n",
              "    <path d=\"M18.56 5.44l.94 2.06.94-2.06 2.06-.94-2.06-.94-.94-2.06-.94 2.06-2.06.94zm-11 1L8.5 8.5l.94-2.06 2.06-.94-2.06-.94L8.5 2.5l-.94 2.06-2.06.94zm10 10l.94 2.06.94-2.06 2.06-.94-2.06-.94-.94-2.06-.94 2.06-2.06.94z\"/><path d=\"M17.41 7.96l-1.37-1.37c-.4-.4-.92-.59-1.43-.59-.52 0-1.04.2-1.43.59L10.3 9.45l-7.72 7.72c-.78.78-.78 2.05 0 2.83L4 21.41c.39.39.9.59 1.41.59.51 0 1.02-.2 1.41-.59l7.78-7.78 2.81-2.81c.8-.78.8-2.07 0-2.86zM5.41 20L4 18.59l7.72-7.72 1.47 1.35L5.41 20z\"/>\n",
              "  </svg>\n",
              "      </button>\n",
              "      \n",
              "  <style>\n",
              "    .colab-df-container {\n",
              "      display:flex;\n",
              "      flex-wrap:wrap;\n",
              "      gap: 12px;\n",
              "    }\n",
              "\n",
              "    .colab-df-convert {\n",
              "      background-color: #E8F0FE;\n",
              "      border: none;\n",
              "      border-radius: 50%;\n",
              "      cursor: pointer;\n",
              "      display: none;\n",
              "      fill: #1967D2;\n",
              "      height: 32px;\n",
              "      padding: 0 0 0 0;\n",
              "      width: 32px;\n",
              "    }\n",
              "\n",
              "    .colab-df-convert:hover {\n",
              "      background-color: #E2EBFA;\n",
              "      box-shadow: 0px 1px 2px rgba(60, 64, 67, 0.3), 0px 1px 3px 1px rgba(60, 64, 67, 0.15);\n",
              "      fill: #174EA6;\n",
              "    }\n",
              "\n",
              "    [theme=dark] .colab-df-convert {\n",
              "      background-color: #3B4455;\n",
              "      fill: #D2E3FC;\n",
              "    }\n",
              "\n",
              "    [theme=dark] .colab-df-convert:hover {\n",
              "      background-color: #434B5C;\n",
              "      box-shadow: 0px 1px 3px 1px rgba(0, 0, 0, 0.15);\n",
              "      filter: drop-shadow(0px 1px 2px rgba(0, 0, 0, 0.3));\n",
              "      fill: #FFFFFF;\n",
              "    }\n",
              "  </style>\n",
              "\n",
              "      <script>\n",
              "        const buttonEl =\n",
              "          document.querySelector('#df-788a97a2-d136-4662-a90f-9dd592c56546 button.colab-df-convert');\n",
              "        buttonEl.style.display =\n",
              "          google.colab.kernel.accessAllowed ? 'block' : 'none';\n",
              "\n",
              "        async function convertToInteractive(key) {\n",
              "          const element = document.querySelector('#df-788a97a2-d136-4662-a90f-9dd592c56546');\n",
              "          const dataTable =\n",
              "            await google.colab.kernel.invokeFunction('convertToInteractive',\n",
              "                                                     [key], {});\n",
              "          if (!dataTable) return;\n",
              "\n",
              "          const docLinkHtml = 'Like what you see? Visit the ' +\n",
              "            '<a target=\"_blank\" href=https://colab.research.google.com/notebooks/data_table.ipynb>data table notebook</a>'\n",
              "            + ' to learn more about interactive tables.';\n",
              "          element.innerHTML = '';\n",
              "          dataTable['output_type'] = 'display_data';\n",
              "          await google.colab.output.renderOutput(dataTable, element);\n",
              "          const docLink = document.createElement('div');\n",
              "          docLink.innerHTML = docLinkHtml;\n",
              "          element.appendChild(docLink);\n",
              "        }\n",
              "      </script>\n",
              "    </div>\n",
              "  </div>\n",
              "  "
            ],
            "text/plain": [
              "   0  1\n",
              "0  2  4\n",
              "1  6  7\n",
              "2  8  9\n",
              "3  1  6"
            ]
          },
          "execution_count": 118,
          "metadata": {},
          "output_type": "execute_result"
        }
      ],
      "source": [
        "#@title\n",
        "some_list = [(2,4),(6,7),(8,9),(1,6)]\n",
        "pd.DataFrame(some_list)"
      ]
    },
    {
      "cell_type": "code",
      "execution_count": null,
      "metadata": {
        "colab": {
          "base_uri": "https://localhost:8080/"
        },
        "id": "sYG7eRxn8oqt",
        "outputId": "b48f13ae-ad4e-49fd-9f19-bd3a36bf277a"
      },
      "outputs": [
        {
          "data": {
            "text/plain": [
              "[4.47213595499958, 9.219544457292887, 12.041594578792296, 6.082762530298219]"
            ]
          },
          "execution_count": 119,
          "metadata": {},
          "output_type": "execute_result"
        }
      ],
      "source": [
        "#@title\n",
        "[pythagoras(stuff[0],stuff[1]) for stuff in some_list]"
      ]
    },
    {
      "cell_type": "markdown",
      "metadata": {
        "id": "ILnKSk0aAci6"
      },
      "source": [
        "**Best practice: ** Adding documentation via\n",
        "* Doc-string (\"\"\")\n",
        "* Try placing the cursor at the function and press `<shift+tab>`"
      ]
    },
    {
      "cell_type": "code",
      "execution_count": null,
      "metadata": {
        "id": "7lN0P7RPAci6"
      },
      "outputs": [],
      "source": [
        "def pythagoras(a, b):\n",
        "    \"\"\"\n",
        "    Computes the length of the hypotenuse of a right triangle\n",
        "\n",
        "    Arguments\n",
        "    a, b: the two lengths of the right triangle\n",
        "    \"\"\"\n",
        "\n",
        "    return sqrt(a**2 + b**2)"
      ]
    },
    {
      "cell_type": "markdown",
      "metadata": {
        "id": "cHgFgoMIgDqw"
      },
      "source": [
        "## Mini-assignment\n",
        "* Construct a function that given two points $(x_1, y_1), (x_2, y_2)$ on a line computes the slope $a$ of the line\n",
        "$$ y = ax + b$$\n",
        "given by\n",
        "$$ a = \\frac{y_2- y_1}{x_2 - x_1}$$"
      ]
    },
    {
      "cell_type": "code",
      "execution_count": null,
      "metadata": {
        "id": "LZI28bDmgLv4"
      },
      "outputs": [],
      "source": []
    },
    {
      "cell_type": "markdown",
      "metadata": {
        "id": "2zKsNBO2Puim"
      },
      "source": [
        "# Flow Control (loops & friends)\n",
        "\n",
        "Python is made for readability and therefore tabs and new lines have syntax meaning\n"
      ]
    },
    {
      "cell_type": "code",
      "execution_count": null,
      "metadata": {
        "colab": {
          "base_uri": "https://localhost:8080/"
        },
        "id": "OEdVwW4oPmrG",
        "outputId": "8c65dde1-41e9-4073-a6fa-8ebb800799ff"
      },
      "outputs": [
        {
          "name": "stdout",
          "output_type": "stream",
          "text": [
            "2.0\n"
          ]
        }
      ],
      "source": [
        "# If/else controls\n",
        "x = 5\n",
        "y = 10\n",
        "\n",
        "if (x==0):\n",
        "  y = 0\n",
        "else:\n",
        "  y = y/x\n",
        "  print(y)"
      ]
    },
    {
      "cell_type": "code",
      "execution_count": null,
      "metadata": {
        "colab": {
          "base_uri": "https://localhost:8080/"
        },
        "id": "CPnjWDyUQBA2",
        "outputId": "fb1532c3-efaa-4dee-e0ec-72384aeaa7a2"
      },
      "outputs": [
        {
          "name": "stdout",
          "output_type": "stream",
          "text": [
            "OMG, i just counted to 1\n",
            "OMG, i just counted to 2\n",
            "OMG, i just counted to 3\n",
            "OMG, i just counted to 4\n",
            "OMG, i just counted to 5\n"
          ]
        }
      ],
      "source": [
        "# For loops\n",
        "for i in range(1,x+1):\n",
        "  print(\"OMG, i just counted to \" + str(i))"
      ]
    },
    {
      "cell_type": "code",
      "execution_count": null,
      "metadata": {
        "colab": {
          "base_uri": "https://localhost:8080/"
        },
        "id": "fF4dZdA_QwWQ",
        "outputId": "ca004ad5-72ea-422d-8fd7-d269e570d691"
      },
      "outputs": [
        {
          "name": "stdout",
          "output_type": "stream",
          "text": [
            "5\n",
            "4\n",
            "3\n",
            "2\n",
            "1\n"
          ]
        }
      ],
      "source": [
        "# While loop\n",
        "x = 5\n",
        "\n",
        "while x > 0:\n",
        "  print(x)\n",
        "  x = x-1"
      ]
    },
    {
      "cell_type": "code",
      "execution_count": null,
      "metadata": {
        "colab": {
          "base_uri": "https://localhost:8080/"
        },
        "id": "4sLNd02bQ__C",
        "outputId": "5f440de9-2a67-4907-9405-d6156eb27a0f"
      },
      "outputs": [
        {
          "name": "stdout",
          "output_type": "stream",
          "text": [
            "1\n",
            "2\n",
            "3\n",
            "4\n",
            "5\n",
            "6\n",
            "7\n"
          ]
        }
      ],
      "source": [
        "x = 1\n",
        "\n",
        "while True:\n",
        "  print(x)\n",
        "  x = x + 1\n",
        "  if x > 7:\n",
        "    break"
      ]
    },
    {
      "cell_type": "code",
      "execution_count": null,
      "metadata": {
        "colab": {
          "base_uri": "https://localhost:8080/"
        },
        "id": "SpPi4L4tt_zN",
        "outputId": "dfdb8a77-785d-4a82-a986-3cf93fa4fdfd"
      },
      "outputs": [
        {
          "data": {
            "text/plain": [
              "[0, 2, 4, 6, 8, 10, 12, 14, 16, 18]"
            ]
          },
          "execution_count": 101,
          "metadata": {},
          "output_type": "execute_result"
        }
      ],
      "source": [
        "even = [] # empty list\n",
        "for i in range(10):\n",
        "    even.append(i*2)\n",
        "even"
      ]
    },
    {
      "cell_type": "code",
      "execution_count": null,
      "metadata": {
        "colab": {
          "base_uri": "https://localhost:8080/"
        },
        "id": "iokR-fr0uJ5g",
        "outputId": "ed9c5033-00a9-4910-8b45-ec350dcfdd7f"
      },
      "outputs": [
        {
          "data": {
            "text/plain": [
              "[1, 3, 5, 7, 9, 11, 13, 15, 17, 19]"
            ]
          },
          "execution_count": 102,
          "metadata": {},
          "output_type": "execute_result"
        }
      ],
      "source": [
        "odd = []\n",
        "for i in even:\n",
        "    odd.append(i+1)\n",
        "odd"
      ]
    },
    {
      "cell_type": "markdown",
      "metadata": {
        "id": "2PGf7TO1uix0"
      },
      "source": [
        "### Mini-assignment\n",
        "\n",
        "Write a function `KtoC` that translates Kelvin to Celcius\n",
        "\n",
        "$$ C = K - 273.15 \\quad \\text{with} \\quad C\\geq - 273.15$$\n",
        "\n",
        "The function returns `None` when $C < -273.15$"
      ]
    },
    {
      "cell_type": "code",
      "execution_count": null,
      "metadata": {
        "id": "uKOoIZj4G7Pf"
      },
      "outputs": [],
      "source": []
    },
    {
      "cell_type": "markdown",
      "metadata": {
        "id": "ZrJ1nrDe1TLs"
      },
      "source": [
        "## Error Handling\n",
        "\n",
        "In Python, errors and exceptions can be managed using try-except blocks.\n",
        "\n",
        "### Basic Error Handling\n",
        "\n",
        "For example, let's see what happens when you try to divide by zero and how to handle it."
      ]
    },
    {
      "cell_type": "code",
      "execution_count": null,
      "metadata": {
        "id": "I9qP_Inx1x6h"
      },
      "outputs": [],
      "source": [
        "try:\n",
        "    result = 10 / 0\n",
        "except ZeroDivisionError:\n",
        "    print(\"You can't divide by zero!\")"
      ]
    },
    {
      "cell_type": "markdown",
      "metadata": {
        "id": "k-NYiUed10fZ"
      },
      "source": [
        "### Multiple Errors\n",
        "\n",
        "You can also handle multiple exceptions in a single try-except block."
      ]
    },
    {
      "cell_type": "code",
      "execution_count": null,
      "metadata": {
        "id": "ZNDJ2kYJ1wGZ"
      },
      "outputs": [],
      "source": [
        "x = \"a\"\n",
        "\n",
        "try:\n",
        "    result = 10 / int(x)\n",
        "except ZeroDivisionError:\n",
        "    print(\"You can't divide by zero!\")\n",
        "except ValueError:\n",
        "    print(\"Invalid input; please enter a number.\")\n",
        "\n",
        "\n"
      ]
    },
    {
      "cell_type": "markdown",
      "metadata": {
        "id": "ReTFwvYp1rF3"
      },
      "source": [
        "### Else and Finally Clauses\n",
        "\n",
        "You can also use 'else' and 'finally' clauses with try-except blocks.\n",
        "The code in 'else' will run if the try block doesn't raise an exception,\n",
        "and 'finally' will run regardless of whether an exception is raised or not.\n",
        "\n",
        "\n"
      ]
    },
    {
      "cell_type": "code",
      "execution_count": null,
      "metadata": {
        "id": "lWcLi_Bu1oXU"
      },
      "outputs": [],
      "source": [
        "try:\n",
        "    result = 10 / 2\n",
        "except ZeroDivisionError:\n",
        "    print(\"You can't divide by zero!\")\n",
        "else:\n",
        "    print(\"Division successful!\")\n",
        "finally:\n",
        "    print(\"This block of code will always run.\")"
      ]
    },
    {
      "cell_type": "markdown",
      "metadata": {
        "id": "XhpYsrwX1p9V"
      },
      "source": [
        "### Custom Exceptions\n",
        "\n",
        "You can also raise your own exceptions using the 'raise' keyword."
      ]
    },
    {
      "cell_type": "code",
      "execution_count": null,
      "metadata": {
        "id": "ifQCidrT1io9"
      },
      "outputs": [],
      "source": [
        "def pythagoras_with_error_check(a, b):\n",
        "    \"\"\"\n",
        "    Computes the length of the hypotenuse of a right triangle.\n",
        "    Raises a custom exception if either a or b is negative.\n",
        "    \"\"\"\n",
        "    if a < 0 or b < 0:\n",
        "        raise ValueError(\"Sides of a right triangle cannot be negative.\")\n",
        "    return sqrt(a ** 2 + b ** 2)"
      ]
    },
    {
      "cell_type": "code",
      "execution_count": null,
      "metadata": {
        "id": "y5T6NDoA1TpS"
      },
      "outputs": [],
      "source": [
        "# Let's see how our custom exception works.\n",
        "try:\n",
        "    print(pythagoras_with_error_check(-3, 4))\n",
        "except ValueError as e:\n",
        "    print(e)\n"
      ]
    },
    {
      "cell_type": "markdown",
      "metadata": {
        "id": "s0LRc_qV_rQB"
      },
      "source": [
        "\n",
        "\n",
        "#Object classes\n"
      ]
    },
    {
      "cell_type": "markdown",
      "metadata": {
        "id": "mO5_ey2l_zyO"
      },
      "source": [
        "## Vector\n",
        "\n",
        "One-dimensional collection of values"
      ]
    },
    {
      "cell_type": "code",
      "execution_count": null,
      "metadata": {
        "colab": {
          "base_uri": "https://localhost:8080/"
        },
        "id": "6YNedwER_yer",
        "outputId": "db3979cb-4d0c-4945-f419-5f847de14bb2"
      },
      "outputs": [
        {
          "data": {
            "text/plain": [
              "[1, 5, 11, 33]"
            ]
          },
          "execution_count": 33,
          "metadata": {},
          "output_type": "execute_result"
        }
      ],
      "source": [
        "# Numeric\n",
        "v1 = [1,5,11,33] # [] initiate a list\n",
        "v1"
      ]
    },
    {
      "cell_type": "code",
      "execution_count": null,
      "metadata": {
        "colab": {
          "base_uri": "https://localhost:8080/"
        },
        "id": "MuVsjqw_A5sL",
        "outputId": "5704b296-2ccf-4633-958c-0f0ac3058cf0"
      },
      "outputs": [
        {
          "data": {
            "text/plain": [
              "['hello', 'world']"
            ]
          },
          "execution_count": 34,
          "metadata": {},
          "output_type": "execute_result"
        }
      ],
      "source": [
        "# String\n",
        "v2 = [\"hello\",\"world\"]\n",
        "v2"
      ]
    },
    {
      "cell_type": "code",
      "execution_count": null,
      "metadata": {
        "colab": {
          "base_uri": "https://localhost:8080/"
        },
        "id": "5r-3iAR3A-DC",
        "outputId": "b558f5b2-9d4f-4ce5-8ba1-d94a58a45ce0"
      },
      "outputs": [
        {
          "data": {
            "text/plain": [
              "[True, True, False, True]"
            ]
          },
          "execution_count": 35,
          "metadata": {},
          "output_type": "execute_result"
        }
      ],
      "source": [
        "# Boolean\n",
        "v3 = [True, True, False, True]\n",
        "v3"
      ]
    },
    {
      "cell_type": "markdown",
      "metadata": {
        "id": "xAG4dKvTIltF"
      },
      "source": [
        "Evaluating elements in vectors"
      ]
    },
    {
      "cell_type": "code",
      "execution_count": null,
      "metadata": {
        "colab": {
          "base_uri": "https://localhost:8080/"
        },
        "id": "1oeaDAHLIpsx",
        "outputId": "4136fb06-9bce-4e51-88d9-3caa7d4fd033"
      },
      "outputs": [
        {
          "data": {
            "text/plain": [
              "1"
            ]
          },
          "execution_count": 36,
          "metadata": {},
          "output_type": "execute_result"
        }
      ],
      "source": [
        "v1[0]"
      ]
    },
    {
      "cell_type": "code",
      "execution_count": null,
      "metadata": {
        "colab": {
          "base_uri": "https://localhost:8080/"
        },
        "id": "3QOAjR8CI4IN",
        "outputId": "554d2628-e6c8-4a06-a7e2-4697b42267a3"
      },
      "outputs": [
        {
          "data": {
            "text/plain": [
              "[5, 11]"
            ]
          },
          "execution_count": 37,
          "metadata": {},
          "output_type": "execute_result"
        }
      ],
      "source": [
        "v1[1:3]"
      ]
    },
    {
      "cell_type": "markdown",
      "metadata": {
        "id": "PtDQGTsB2kG2"
      },
      "source": [
        "Manipulatingg vector elements"
      ]
    },
    {
      "cell_type": "code",
      "execution_count": null,
      "metadata": {
        "colab": {
          "base_uri": "https://localhost:8080/"
        },
        "id": "Oe_dkwp_2kRx",
        "outputId": "d2214a52-4234-402a-be16-84dc5a200b8e"
      },
      "outputs": [
        {
          "data": {
            "text/plain": [
              "[1, 5, 1337, 33]"
            ]
          },
          "execution_count": 41,
          "metadata": {},
          "output_type": "execute_result"
        }
      ],
      "source": [
        "v1[2] = 1337\n",
        "v1"
      ]
    },
    {
      "cell_type": "markdown",
      "metadata": {
        "id": "odc1xHxmBWsA"
      },
      "source": [
        "Combining different types of elements you obtain a list of lists (later) with all elements in their original format"
      ]
    },
    {
      "cell_type": "code",
      "execution_count": null,
      "metadata": {
        "colab": {
          "base_uri": "https://localhost:8080/"
        },
        "id": "fQZ7HVJDBH6y",
        "outputId": "86dcdc80-d5e0-4147-bfd3-573614a0187f"
      },
      "outputs": [
        {
          "data": {
            "text/plain": [
              "[[1, 5, 1337, 33], ['hello', 'world'], [True, True, False, True]]"
            ]
          },
          "execution_count": 42,
          "metadata": {},
          "output_type": "execute_result"
        }
      ],
      "source": [
        "v5 =[v1, v2, v3]\n",
        "v5\n",
        "# Integers (numbers) are still numbers, not strings (text). Easy to see because they don't have ' '"
      ]
    },
    {
      "cell_type": "markdown",
      "metadata": {
        "id": "eY19eb0hIeqo"
      },
      "source": [
        "Adding vectors will append them (not sum them)"
      ]
    },
    {
      "cell_type": "code",
      "execution_count": null,
      "metadata": {
        "colab": {
          "base_uri": "https://localhost:8080/"
        },
        "id": "U5ozc0Q8BR4L",
        "outputId": "5b4db14c-e0a5-4ed8-bc1d-58fbbbc1b0ac"
      },
      "outputs": [
        {
          "data": {
            "text/plain": [
              "[1, 5, 1337, 33, True, True, False, True]"
            ]
          },
          "execution_count": 43,
          "metadata": {},
          "output_type": "execute_result"
        }
      ],
      "source": [
        "v1 + v3"
      ]
    },
    {
      "cell_type": "code",
      "execution_count": null,
      "metadata": {
        "colab": {
          "base_uri": "https://localhost:8080/"
        },
        "id": "LTbWQMQyCKmT",
        "outputId": "a1fcc791-8e57-4442-9d15-9895846df90e"
      },
      "outputs": [
        {
          "data": {
            "text/plain": [
              "[1, 5, 1337, 33, 1, 5, 1337, 33]"
            ]
          },
          "execution_count": 44,
          "metadata": {},
          "output_type": "execute_result"
        }
      ],
      "source": [
        "# Same for multiplication\n",
        "v1 * 2"
      ]
    },
    {
      "cell_type": "markdown",
      "metadata": {
        "id": "4nwBrA3mB3kM"
      },
      "source": [
        "**Element-wise operations:** To do numerical operations on vectors\n",
        "numpy.arrays. NumPy is a library, adding support for large, multi-dimensional arrays and matrices, along with a large collection of high-level mathematical functions to operate on these arrays. Here, you can already see that Python is a CS language."
      ]
    },
    {
      "cell_type": "code",
      "execution_count": null,
      "metadata": {
        "id": "jXCR4ygoKe7S"
      },
      "outputs": [],
      "source": [
        "v1_array = np.array(v1)\n",
        "v2_array = np.array(v2)\n",
        "v3_array = np.array(v3)"
      ]
    },
    {
      "cell_type": "code",
      "execution_count": null,
      "metadata": {
        "colab": {
          "base_uri": "https://localhost:8080/"
        },
        "id": "Ttaz6q4VKzNX",
        "outputId": "6a11b842-464e-4008-c633-5417d00de896"
      },
      "outputs": [
        {
          "data": {
            "text/plain": [
              "array([   1,    5, 1337,   33])"
            ]
          },
          "execution_count": 46,
          "metadata": {},
          "output_type": "execute_result"
        }
      ],
      "source": [
        "v1_array"
      ]
    },
    {
      "cell_type": "code",
      "execution_count": null,
      "metadata": {
        "colab": {
          "base_uri": "https://localhost:8080/"
        },
        "id": "6IyUAEunLASy",
        "outputId": "003bc4d3-3744-4ada-beb7-3247e2da93c6"
      },
      "outputs": [
        {
          "data": {
            "text/plain": [
              "array([   6,   10, 1342,   38])"
            ]
          },
          "execution_count": 47,
          "metadata": {},
          "output_type": "execute_result"
        }
      ],
      "source": [
        "v1_array + 5"
      ]
    },
    {
      "cell_type": "code",
      "execution_count": null,
      "metadata": {
        "colab": {
          "base_uri": "https://localhost:8080/"
        },
        "id": "15du6wGyB0qj",
        "outputId": "44d18f4e-e730-4e59-ecc1-6591fa122c8b"
      },
      "outputs": [
        {
          "data": {
            "text/plain": [
              "array([   2,    6, 1337,   34])"
            ]
          },
          "execution_count": 48,
          "metadata": {},
          "output_type": "execute_result"
        }
      ],
      "source": [
        "v1_array + v3_array"
      ]
    },
    {
      "cell_type": "code",
      "execution_count": null,
      "metadata": {
        "colab": {
          "base_uri": "https://localhost:8080/",
          "height": 184
        },
        "id": "h9EGsZTRDA23",
        "outputId": "60df8a2a-80ce-4ee8-8bf9-f11f3a9d0cf5"
      },
      "outputs": [
        {
          "ename": "ValueError",
          "evalue": "ignored",
          "output_type": "error",
          "traceback": [
            "\u001b[0;31m---------------------------------------------------------------------------\u001b[0m",
            "\u001b[0;31mValueError\u001b[0m                                Traceback (most recent call last)",
            "\u001b[0;32m<ipython-input-49-832f5dfe874f>\u001b[0m in \u001b[0;36m<module>\u001b[0;34m\u001b[0m\n\u001b[1;32m      1\u001b[0m \u001b[0;31m# Arrays of different size\u001b[0m\u001b[0;34m\u001b[0m\u001b[0;34m\u001b[0m\u001b[0;34m\u001b[0m\u001b[0m\n\u001b[0;32m----> 2\u001b[0;31m \u001b[0mv1_array\u001b[0m \u001b[0;34m+\u001b[0m \u001b[0mnp\u001b[0m\u001b[0;34m.\u001b[0m\u001b[0marray\u001b[0m\u001b[0;34m(\u001b[0m\u001b[0;34m[\u001b[0m\u001b[0;36m1\u001b[0m\u001b[0;34m,\u001b[0m\u001b[0;36m7\u001b[0m\u001b[0;34m]\u001b[0m\u001b[0;34m)\u001b[0m\u001b[0;34m\u001b[0m\u001b[0;34m\u001b[0m\u001b[0m\n\u001b[0m",
            "\u001b[0;31mValueError\u001b[0m: operands could not be broadcast together with shapes (4,) (2,) "
          ]
        }
      ],
      "source": [
        "# Arrays of different size\n",
        "v1_array + np.array([1,7])"
      ]
    },
    {
      "cell_type": "code",
      "execution_count": null,
      "metadata": {
        "colab": {
          "base_uri": "https://localhost:8080/",
          "height": 184
        },
        "id": "zqSYtKjtLmEj",
        "outputId": "afee39c7-b1c6-4716-d94b-6c3fcac33e0c"
      },
      "outputs": [
        {
          "ename": "UFuncTypeError",
          "evalue": "ignored",
          "output_type": "error",
          "traceback": [
            "\u001b[0;31m---------------------------------------------------------------------------\u001b[0m",
            "\u001b[0;31mUFuncTypeError\u001b[0m                            Traceback (most recent call last)",
            "\u001b[0;32m<ipython-input-50-6c177d22174a>\u001b[0m in \u001b[0;36m<module>\u001b[0;34m\u001b[0m\n\u001b[1;32m      1\u001b[0m \u001b[0;31m# non-numerical arrays\u001b[0m\u001b[0;34m\u001b[0m\u001b[0;34m\u001b[0m\u001b[0;34m\u001b[0m\u001b[0m\n\u001b[0;32m----> 2\u001b[0;31m \u001b[0mv1_array\u001b[0m \u001b[0;34m+\u001b[0m \u001b[0mv2_array\u001b[0m\u001b[0;34m\u001b[0m\u001b[0;34m\u001b[0m\u001b[0m\n\u001b[0m",
            "\u001b[0;31mUFuncTypeError\u001b[0m: ufunc 'add' did not contain a loop with signature matching types (dtype('int64'), dtype('<U5')) -> None"
          ]
        }
      ],
      "source": [
        "# non-numerical arrays\n",
        "v1_array + v2_array"
      ]
    },
    {
      "cell_type": "markdown",
      "metadata": {
        "id": "wyKGw7LphYV2"
      },
      "source": [
        "**Mathematical operations over the vector:** For most maths you need to engage numpy or other modules (Python is not per sea maths language)"
      ]
    },
    {
      "cell_type": "code",
      "execution_count": null,
      "metadata": {
        "colab": {
          "base_uri": "https://localhost:8080/"
        },
        "id": "pBsnrz9GDXlU",
        "outputId": "9f9d8a91-89be-4ddd-9994-65936b1f0172"
      },
      "outputs": [
        {
          "data": {
            "text/plain": [
              "1376"
            ]
          },
          "execution_count": 51,
          "metadata": {},
          "output_type": "execute_result"
        }
      ],
      "source": [
        "# that works the same way\n",
        "np.sum(v1)"
      ]
    },
    {
      "cell_type": "code",
      "execution_count": null,
      "metadata": {
        "colab": {
          "base_uri": "https://localhost:8080/"
        },
        "id": "NXuWEoQ7DrFd",
        "outputId": "fe046174-253e-4f40-a83f-91d3b5f0dfe6"
      },
      "outputs": [
        {
          "data": {
            "text/plain": [
              "344.0"
            ]
          },
          "execution_count": 52,
          "metadata": {},
          "output_type": "execute_result"
        }
      ],
      "source": [
        "np.mean(v1)"
      ]
    },
    {
      "cell_type": "code",
      "execution_count": null,
      "metadata": {
        "colab": {
          "base_uri": "https://localhost:8080/"
        },
        "id": "sjAX77_4KfAT",
        "outputId": "a793aaaf-b472-4f04-e315-a10dc5c43a98"
      },
      "outputs": [
        {
          "data": {
            "text/plain": [
              "573.4413657907842"
            ]
          },
          "execution_count": 53,
          "metadata": {},
          "output_type": "execute_result"
        }
      ],
      "source": [
        "# Standard deviation for population - DeltaDegreesOfFreedom = 0 by default\n",
        "np.std(v1, ddof=0)"
      ]
    },
    {
      "cell_type": "code",
      "execution_count": null,
      "metadata": {
        "colab": {
          "base_uri": "https://localhost:8080/"
        },
        "id": "kDOkhq4cDvVe",
        "outputId": "75e034c9-db8d-46a5-8c3f-e02de6687857"
      },
      "outputs": [
        {
          "data": {
            "text/plain": [
              "662.1530538075518"
            ]
          },
          "execution_count": 54,
          "metadata": {},
          "output_type": "execute_result"
        }
      ],
      "source": [
        "np.std(v1, ddof=1)"
      ]
    },
    {
      "cell_type": "code",
      "execution_count": null,
      "metadata": {
        "colab": {
          "base_uri": "https://localhost:8080/"
        },
        "id": "gGf4jB8MKbgA",
        "outputId": "bcb3b464-1b38-4161-d40d-da9e58af8268"
      },
      "outputs": [
        {
          "data": {
            "text/plain": [
              "array([[1., 1.],\n",
              "       [1., 1.]])"
            ]
          },
          "execution_count": 55,
          "metadata": {},
          "output_type": "execute_result"
        }
      ],
      "source": [
        "np.corrcoef(v1,v1)"
      ]
    },
    {
      "cell_type": "markdown",
      "metadata": {
        "id": "wFqKVINTL1RN"
      },
      "source": [
        "Also consider this cheat sheet\n",
        "\n",
        "https://s3.amazonaws.com/assets.datacamp.com/blog_assets/Numpy_Python_Cheat_Sheet.pdf"
      ]
    },
    {
      "cell_type": "markdown",
      "metadata": {
        "id": "juKqaTiaivBS"
      },
      "source": [
        "## Lists\n",
        "* An indexable collection of variables (objects)\n",
        "* C-style or 0-indexed"
      ]
    },
    {
      "cell_type": "code",
      "execution_count": null,
      "metadata": {
        "colab": {
          "base_uri": "https://localhost:8080/"
        },
        "id": "p6QpJdRro3Y1",
        "outputId": "6a8fc13a-dee5-49fc-c08b-f81706de8d5c"
      },
      "outputs": [
        {
          "data": {
            "text/plain": [
              "list"
            ]
          },
          "execution_count": 73,
          "metadata": {},
          "output_type": "execute_result"
        }
      ],
      "source": [
        "l = ['Caroline', 1.0, pythagoras]\n",
        "type(l)"
      ]
    },
    {
      "cell_type": "code",
      "execution_count": null,
      "metadata": {
        "colab": {
          "base_uri": "https://localhost:8080/"
        },
        "id": "fVvCpMc5o8GY",
        "outputId": "50bd4499-a6e0-429e-9096-d2e61f8a3079"
      },
      "outputs": [
        {
          "data": {
            "text/plain": [
              "['Caroline', 1.0, <function __main__.pythagoras(a, b)>]"
            ]
          },
          "execution_count": 74,
          "metadata": {},
          "output_type": "execute_result"
        }
      ],
      "source": [
        "l"
      ]
    },
    {
      "cell_type": "code",
      "execution_count": null,
      "metadata": {
        "colab": {
          "base_uri": "https://localhost:8080/",
          "height": 35
        },
        "id": "_iVoeTMSpI1p",
        "outputId": "e5945010-74f6-4de6-8a98-4b12c3094b3b"
      },
      "outputs": [
        {
          "data": {
            "application/vnd.google.colaboratory.intrinsic+json": {
              "type": "string"
            },
            "text/plain": [
              "'Caroline'"
            ]
          },
          "execution_count": 75,
          "metadata": {},
          "output_type": "execute_result"
        }
      ],
      "source": [
        "l[0]"
      ]
    },
    {
      "cell_type": "code",
      "execution_count": null,
      "metadata": {
        "colab": {
          "base_uri": "https://localhost:8080/"
        },
        "id": "8XwMxiK5pBPx",
        "outputId": "9e7d75fa-4db7-4ef3-eee5-edabbfeb63e5"
      },
      "outputs": [
        {
          "data": {
            "text/plain": [
              "str"
            ]
          },
          "execution_count": 76,
          "metadata": {},
          "output_type": "execute_result"
        }
      ],
      "source": [
        "type(l[0])"
      ]
    },
    {
      "cell_type": "markdown",
      "metadata": {
        "id": "U-b0NEatpUDX"
      },
      "source": [
        "Common methods for lists"
      ]
    },
    {
      "cell_type": "code",
      "execution_count": null,
      "metadata": {
        "colab": {
          "base_uri": "https://localhost:8080/"
        },
        "id": "qNpFJvtUpWAC",
        "outputId": "cf153508-8fb3-47e9-9e85-0dc9dccfb526"
      },
      "outputs": [
        {
          "data": {
            "text/plain": [
              "['Caroline', 1.0, <function __main__.pythagoras(a, b)>, 1.4142135623730951]"
            ]
          },
          "execution_count": 77,
          "metadata": {},
          "output_type": "execute_result"
        }
      ],
      "source": [
        "l.append(sqrt(2.0))\n",
        "l"
      ]
    },
    {
      "cell_type": "code",
      "execution_count": null,
      "metadata": {
        "colab": {
          "base_uri": "https://localhost:8080/"
        },
        "id": "XdlqQeccpZIj",
        "outputId": "4401705d-230b-45e9-b1d3-e0bb2fd682a0"
      },
      "outputs": [
        {
          "data": {
            "text/plain": [
              "<function __main__.pythagoras(a, b)>"
            ]
          },
          "execution_count": 78,
          "metadata": {},
          "output_type": "execute_result"
        }
      ],
      "source": [
        "a = l.pop(2)\n",
        "a"
      ]
    },
    {
      "cell_type": "code",
      "execution_count": null,
      "metadata": {
        "colab": {
          "base_uri": "https://localhost:8080/"
        },
        "id": "xvACg9qX3Pck",
        "outputId": "fc39ed4c-25a9-41f5-d89d-75003702f7fc"
      },
      "outputs": [
        {
          "data": {
            "text/plain": [
              "['Caroline', 1.0, 1.4142135623730951]"
            ]
          },
          "execution_count": 79,
          "metadata": {},
          "output_type": "execute_result"
        }
      ],
      "source": [
        "l"
      ]
    },
    {
      "cell_type": "code",
      "execution_count": null,
      "metadata": {
        "id": "O3D4DLxMpkT3"
      },
      "outputs": [],
      "source": [
        "l.pop(0)\n",
        "l.append(100)\n",
        "l.sort(reverse=True)"
      ]
    },
    {
      "cell_type": "code",
      "execution_count": null,
      "metadata": {
        "colab": {
          "base_uri": "https://localhost:8080/"
        },
        "id": "Ls42YiqeppJ9",
        "outputId": "4595c4bf-b65a-46c6-98dd-369cecf616e8"
      },
      "outputs": [
        {
          "data": {
            "text/plain": [
              "[100, 1.4142135623730951, 1.0]"
            ]
          },
          "execution_count": 81,
          "metadata": {},
          "output_type": "execute_result"
        }
      ],
      "source": [
        "l"
      ]
    },
    {
      "cell_type": "code",
      "execution_count": null,
      "metadata": {
        "colab": {
          "base_uri": "https://localhost:8080/"
        },
        "id": "s7bnNoJhp2PO",
        "outputId": "e0268426-2368-4a75-f586-ab60bd4da3df"
      },
      "outputs": [
        {
          "data": {
            "text/plain": [
              "[100, 2, 1.0]"
            ]
          },
          "execution_count": 82,
          "metadata": {},
          "output_type": "execute_result"
        }
      ],
      "source": [
        "l[1] = 2\n",
        "l"
      ]
    },
    {
      "cell_type": "code",
      "execution_count": null,
      "metadata": {
        "colab": {
          "base_uri": "https://localhost:8080/"
        },
        "id": "vocUwCUkp6Qp",
        "outputId": "02087494-9a7f-427e-da21-65a0eef656ae"
      },
      "outputs": [
        {
          "data": {
            "text/plain": [
              "[100, 2, 1.0, 6.0, 4]"
            ]
          },
          "execution_count": 83,
          "metadata": {},
          "output_type": "execute_result"
        }
      ],
      "source": [
        "l.extend([6.0, 4])\n",
        "l"
      ]
    },
    {
      "cell_type": "markdown",
      "metadata": {
        "id": "r14Btq72ziwG"
      },
      "source": [
        "## Introduction to List Comprehensions\n",
        "\n",
        "List comprehensions provide a concise way to create lists. They can replace `for` loops for certain tasks, making your code more readable and usually faster. Below are a few examples to help you understand the basics:\n",
        "\n",
        "### Basic Syntax\n",
        "\n",
        "The basic syntax of list comprehension looks like this:\n",
        "\n",
        "```python\n",
        "new_list = [expression for item in iterable]\n"
      ]
    },
    {
      "cell_type": "code",
      "execution_count": null,
      "metadata": {
        "id": "y0Wulji7ziwG"
      },
      "outputs": [],
      "source": [
        "# Create a list of squares of numbers from 0 to 9\n",
        "squares = [x*x for x in range(10)]\n",
        "print(squares)"
      ]
    },
    {
      "cell_type": "code",
      "execution_count": null,
      "metadata": {
        "id": "IeuxbUSTziwG"
      },
      "outputs": [],
      "source": [
        "# Create a list of even numbers from a given list\n",
        "numbers = [1, 2, 3, 4, 5, 6, 7, 8, 9]\n",
        "even_numbers = [x for x in numbers if x % 2 == 0]\n",
        "print(even_numbers)"
      ]
    },
    {
      "cell_type": "code",
      "execution_count": null,
      "metadata": {
        "id": "0dBT4ypdziwG"
      },
      "outputs": [],
      "source": [
        "# Finding Multiples of 2:\n",
        "multiples_of_2 = [x for x in numbers if x % 2 == 0]\n",
        "print(f\"Multiples of 2: {multiples_of_2}\")"
      ]
    },
    {
      "cell_type": "code",
      "execution_count": null,
      "metadata": {
        "id": "o2Gv76rNziwG"
      },
      "outputs": [],
      "source": [
        "# Finding Multiples of 2 or 3:\n",
        "multiples_of_2_or_3 = [x for x in numbers if x % 2 == 0 or x % 3 == 0]\n",
        "print(f\"Multiples of 2 or 3: {multiples_of_2_or_3}\")"
      ]
    },
    {
      "cell_type": "code",
      "execution_count": null,
      "metadata": {
        "id": "aDnWSsXsziwH"
      },
      "outputs": [],
      "source": [
        "# Create a list of strings with length greater than 2 from a given list of strings\n",
        "words = ['apple', 'bat', 'cat', 'dog']\n",
        "long_words = [word for word in words if len(word) > 2]\n",
        "print(long_words)"
      ]
    },
    {
      "cell_type": "markdown",
      "metadata": {
        "id": "yf3gn29DziwH"
      },
      "source": [
        "### Task\n",
        "\n",
        "Your task is to create a list comprehension that iterates through a list of numbers and stores only the even numbers in a new list. Also, if the number is a multiple of 3 and even, store its square instead of the number itself.\n",
        "\n",
        "### Instructions\n",
        "\n",
        "1. Start with the list `numbers = [1, 2, 3, 4, 5, 6, 7, 8, 9, 10]`.\n",
        "2. Create a list comprehension that follows the rules mentioned above.\n",
        "3. Store the result in a variable called `processed_list`.\n",
        "4. Print the `processed_list`."
      ]
    },
    {
      "cell_type": "code",
      "execution_count": null,
      "metadata": {
        "id": "m01vNvRBziwH"
      },
      "outputs": [],
      "source": [
        "# Your code here\n",
        "numbers = [1, 2, 3, 4, 5, 6, 7, 8, 9, 10]"
      ]
    },
    {
      "cell_type": "markdown",
      "metadata": {
        "id": "FRjnH7CkziwH"
      },
      "source": [
        "### Expected Output\n",
        "\n",
        "Your `processed_list` should look like this:\n",
        "\n",
        "```python\n",
        "[2, 4, 36, 8, 10]\n"
      ]
    },
    {
      "cell_type": "markdown",
      "metadata": {
        "id": "1FEwzWyLqU8E"
      },
      "source": [
        "## Tuples\n",
        "* Immutable \"lists\""
      ]
    },
    {
      "cell_type": "code",
      "execution_count": null,
      "metadata": {
        "colab": {
          "base_uri": "https://localhost:8080/"
        },
        "id": "TpUMKFPtqdFL",
        "outputId": "038c7aec-2245-4ae7-82ff-7f9d987eea58"
      },
      "outputs": [
        {
          "data": {
            "text/plain": [
              "((1.0, 4.0), tuple)"
            ]
          },
          "execution_count": 84,
          "metadata": {},
          "output_type": "execute_result"
        }
      ],
      "source": [
        "t = (1.0, 4.0)\n",
        "t, type(t)"
      ]
    },
    {
      "cell_type": "code",
      "execution_count": null,
      "metadata": {
        "colab": {
          "base_uri": "https://localhost:8080/"
        },
        "id": "u5NE8IKzqfds",
        "outputId": "a451d012-a568-41d1-83b3-aef58a03784f"
      },
      "outputs": [
        {
          "data": {
            "text/plain": [
              "4.0"
            ]
          },
          "execution_count": 85,
          "metadata": {},
          "output_type": "execute_result"
        }
      ],
      "source": [
        "t[1]"
      ]
    },
    {
      "cell_type": "code",
      "execution_count": null,
      "metadata": {
        "colab": {
          "base_uri": "https://localhost:8080/",
          "height": 166
        },
        "id": "04ireNT-qiHN",
        "outputId": "0aca450a-a275-4249-a07b-aeeb9026333d"
      },
      "outputs": [
        {
          "ename": "TypeError",
          "evalue": "ignored",
          "output_type": "error",
          "traceback": [
            "\u001b[0;31m---------------------------------------------------------------------------\u001b[0m",
            "\u001b[0;31mTypeError\u001b[0m                                 Traceback (most recent call last)",
            "\u001b[0;32m<ipython-input-86-b9aa97991a78>\u001b[0m in \u001b[0;36m<module>\u001b[0;34m\u001b[0m\n\u001b[0;32m----> 1\u001b[0;31m \u001b[0mt\u001b[0m\u001b[0;34m[\u001b[0m\u001b[0;36m1\u001b[0m\u001b[0;34m]\u001b[0m \u001b[0;34m=\u001b[0m \u001b[0;36m2\u001b[0m\u001b[0;34m\u001b[0m\u001b[0;34m\u001b[0m\u001b[0m\n\u001b[0m",
            "\u001b[0;31mTypeError\u001b[0m: 'tuple' object does not support item assignment"
          ]
        }
      ],
      "source": [
        "t[1] = 2"
      ]
    },
    {
      "cell_type": "markdown",
      "metadata": {
        "id": "FXCxQMY3ziwH"
      },
      "source": [
        "## Mini-assignment: Error Handling Practice with Loop and List\n",
        "\n",
        "Your task is to write a function called `safe_division_list` that takes a list of tuples as an argument.\n",
        "Each tuple contains two elements, `a` and `b`, for which you will perform division of `a` by `b`.\n",
        "The function should handle errors appropriately and append a proper message to the result list for each of the following scenarios:\n",
        "\n",
        "1. If `b` is zero, append \"Cannot divide by zero.\"\n",
        "2. If either `a` or `b` is not a number, append \"Inputs must be numbers.\"\n",
        "3. If the division is successful, append the result to the list.\n",
        "\n",
        "Finally, the function should return the list of results."
      ]
    },
    {
      "cell_type": "code",
      "execution_count": null,
      "metadata": {
        "id": "u0wXz5vMziwH"
      },
      "outputs": [],
      "source": [
        "#Your Code Here\n",
        "\n",
        "Uncomment the code below to write your function\n",
        "\n",
        "def safe_division_list(tuple_list):\n",
        "    results = []\n",
        "    for a, b in tuple_list:\n",
        "        # Your error handling code here\n",
        "        pass\n",
        "    return results"
      ]
    },
    {
      "cell_type": "code",
      "execution_count": null,
      "metadata": {
        "id": "t9mv398vziwH"
      },
      "outputs": [],
      "source": [
        "# Testing Your Code\n",
        "\n",
        "test_list = [(10, 2), (10, 0), (10, 'a'), ('a', 2), (9, 3)]\n",
        "print(safe_division_list(test_list))\n",
        "Should print [5.0, \"Cannot divide by zero.\", \"Inputs must be numbers.\", \"Inputs must be numbers.\", 3.0]"
      ]
    },
    {
      "cell_type": "markdown",
      "metadata": {
        "id": "Mbn7WPtIqlhs"
      },
      "source": [
        "## Dictionaries\n",
        "- Like lists with user-definable indices\n",
        "- Can, like lists and tuples, contain a mix of different types of data.\n",
        "- The indices can *also* be different kinds of data - unlike lists and tuples."
      ]
    },
    {
      "cell_type": "code",
      "execution_count": null,
      "metadata": {
        "colab": {
          "base_uri": "https://localhost:8080/"
        },
        "id": "o7MP7oRwqwbi",
        "outputId": "a0f90866-7d0b-448e-a1ed-326f13b216bf"
      },
      "outputs": [
        {
          "data": {
            "text/plain": [
              "{'one': 1, 2: 2, 3.0: 'three'}"
            ]
          },
          "execution_count": 87,
          "metadata": {},
          "output_type": "execute_result"
        }
      ],
      "source": [
        "d = {'one': 1, 2: 1 + 1, 3.0: 'three'}\n",
        "d"
      ]
    },
    {
      "cell_type": "markdown",
      "metadata": {
        "id": "_-6xdkewq_3Q"
      },
      "source": [
        "Usefull methods"
      ]
    },
    {
      "cell_type": "code",
      "execution_count": null,
      "metadata": {
        "colab": {
          "base_uri": "https://localhost:8080/"
        },
        "id": "kLpSqxHUrBZJ",
        "outputId": "82af5253-acea-4f74-e80a-53d53dea7c7b"
      },
      "outputs": [
        {
          "data": {
            "text/plain": [
              "dict_keys(['one', 2, 3.0])"
            ]
          },
          "execution_count": 88,
          "metadata": {},
          "output_type": "execute_result"
        }
      ],
      "source": [
        "d.keys()"
      ]
    },
    {
      "cell_type": "code",
      "execution_count": null,
      "metadata": {
        "colab": {
          "base_uri": "https://localhost:8080/"
        },
        "id": "M7igUfJurFxl",
        "outputId": "74342628-e2a5-4de6-949e-b1a451d1e34f"
      },
      "outputs": [
        {
          "data": {
            "text/plain": [
              "dict_items([('one', 1), (2, 2), (3.0, 'three')])"
            ]
          },
          "execution_count": 89,
          "metadata": {},
          "output_type": "execute_result"
        }
      ],
      "source": [
        "d.items()"
      ]
    },
    {
      "cell_type": "code",
      "execution_count": null,
      "metadata": {
        "colab": {
          "base_uri": "https://localhost:8080/"
        },
        "id": "nEvSUJ0JrTB7",
        "outputId": "51867c7f-ece7-49b0-924b-048478fd5178"
      },
      "outputs": [
        {
          "data": {
            "text/plain": [
              "{'one': 1, 2: 2}"
            ]
          },
          "execution_count": 90,
          "metadata": {},
          "output_type": "execute_result"
        }
      ],
      "source": [
        "some_value = d.pop(3.0)\n",
        "d"
      ]
    },
    {
      "cell_type": "code",
      "execution_count": null,
      "metadata": {
        "colab": {
          "base_uri": "https://localhost:8080/",
          "height": 35
        },
        "id": "yA_U7JXRrY_q",
        "outputId": "1d9b3b47-918b-4c86-f4dd-a01ceab25c65"
      },
      "outputs": [
        {
          "data": {
            "application/vnd.google.colaboratory.intrinsic+json": {
              "type": "string"
            },
            "text/plain": [
              "'three'"
            ]
          },
          "execution_count": 91,
          "metadata": {},
          "output_type": "execute_result"
        }
      ],
      "source": [
        "some_value"
      ]
    },
    {
      "cell_type": "code",
      "execution_count": null,
      "metadata": {
        "colab": {
          "base_uri": "https://localhost:8080/"
        },
        "id": "xclG5A8krrJR",
        "outputId": "07383377-9c8d-4523-dc62-d2f576af10c7"
      },
      "outputs": [
        {
          "data": {
            "text/plain": [
              "{'one': 1, 2: 2, 'four': 4}"
            ]
          },
          "execution_count": 92,
          "metadata": {},
          "output_type": "execute_result"
        }
      ],
      "source": [
        "d['four'] = 4\n",
        "d"
      ]
    },
    {
      "cell_type": "code",
      "execution_count": null,
      "metadata": {
        "colab": {
          "base_uri": "https://localhost:8080/"
        },
        "id": "m-bPPrbysGvC",
        "outputId": "8f7764fe-5079-4d41-829a-2f2977335e67"
      },
      "outputs": [
        {
          "data": {
            "text/plain": [
              "{'one': 1, 2: 2, 'four': 4, 'five': 5.0, 6: 6.0}"
            ]
          },
          "execution_count": 93,
          "metadata": {},
          "output_type": "execute_result"
        }
      ],
      "source": [
        "d.update({'five': 5.0, 6: 6.0})\n",
        "d"
      ]
    },
    {
      "cell_type": "markdown",
      "metadata": {
        "id": "QoEnu2rcMMSY"
      },
      "source": [
        "## Data Frames\n",
        "\n",
        "In Python Data Frames are managed by Pandas, a very comprehensive library for data manipulation and analysis.\n",
        "\n",
        "We will introduce to it later more in detail, so here only brief:"
      ]
    },
    {
      "cell_type": "code",
      "execution_count": null,
      "metadata": {
        "id": "_FQ-oFLZL7CG"
      },
      "outputs": [],
      "source": [
        "# We construct the DF from a dictionary which is indicated by {'some_key':['some_values']}\n",
        "\n",
        "df1 = pd.DataFrame(\n",
        "    {'ID':range(1,5), # Python counts from 0 and the last value in a range is excluded\n",
        "     'FirstName':[\"Jesper\",\"Jonas\",\"Pernille\",\"Helle\"],\n",
        "     'Female':[False,False,True,True],\n",
        "     'Age':[22,33,44,55]\n",
        "})"
      ]
    },
    {
      "cell_type": "code",
      "execution_count": null,
      "metadata": {
        "colab": {
          "base_uri": "https://localhost:8080/"
        },
        "id": "qipUW6Q1NVKY",
        "outputId": "d28ca70d-e9fd-4e2d-920a-716f0553e767"
      },
      "outputs": [
        {
          "name": "stdout",
          "output_type": "stream",
          "text": [
            "<class 'pandas.core.frame.DataFrame'>\n",
            "RangeIndex: 4 entries, 0 to 3\n",
            "Data columns (total 4 columns):\n",
            " #   Column     Non-Null Count  Dtype \n",
            "---  ------     --------------  ----- \n",
            " 0   ID         4 non-null      int64 \n",
            " 1   FirstName  4 non-null      object\n",
            " 2   Female     4 non-null      bool  \n",
            " 3   Age        4 non-null      int64 \n",
            "dtypes: bool(1), int64(2), object(1)\n",
            "memory usage: 228.0+ bytes\n"
          ]
        }
      ],
      "source": [
        "# Python doesn't really do much factors and as you can see pandas understood your input formats\n",
        "df1.info()"
      ]
    },
    {
      "cell_type": "code",
      "execution_count": null,
      "metadata": {
        "colab": {
          "base_uri": "https://localhost:8080/"
        },
        "id": "SD7HZIQQNkpU",
        "outputId": "a952e2cb-7698-43ab-dc05-daab43e8067d"
      },
      "outputs": [
        {
          "data": {
            "text/plain": [
              "0      Jesper\n",
              "1       Jonas\n",
              "2    Pernille\n",
              "3       Helle\n",
              "Name: FirstName, dtype: object"
            ]
          },
          "execution_count": 137,
          "metadata": {},
          "output_type": "execute_result"
        }
      ],
      "source": [
        "df1.FirstName #dot notation"
      ]
    },
    {
      "cell_type": "code",
      "execution_count": null,
      "metadata": {
        "colab": {
          "base_uri": "https://localhost:8080/"
        },
        "id": "0Do1Lk-uN2zO",
        "outputId": "631cd130-111f-47b7-fa0d-bf411a6b31e0"
      },
      "outputs": [
        {
          "data": {
            "text/plain": [
              "0      Jesper\n",
              "1       Jonas\n",
              "2    Pernille\n",
              "3       Helle\n",
              "Name: FirstName, dtype: object"
            ]
          },
          "execution_count": 138,
          "metadata": {},
          "output_type": "execute_result"
        }
      ],
      "source": [
        "df1['FirstName'] #more traditional subsetting"
      ]
    },
    {
      "cell_type": "code",
      "execution_count": null,
      "metadata": {
        "colab": {
          "base_uri": "https://localhost:8080/"
        },
        "id": "zLFKVJVsN9bD",
        "outputId": "1245cacc-1767-4ba8-e891-79deef8b24e9"
      },
      "outputs": [
        {
          "data": {
            "text/plain": [
              "0      Jesper\n",
              "1       Jonas\n",
              "2    Pernille\n",
              "3       Helle\n",
              "Name: FirstName, dtype: object"
            ]
          },
          "execution_count": 139,
          "metadata": {},
          "output_type": "execute_result"
        }
      ],
      "source": [
        "df1.loc[:,'FirstName'] #more complex subsetting"
      ]
    },
    {
      "cell_type": "code",
      "execution_count": null,
      "metadata": {
        "colab": {
          "base_uri": "https://localhost:8080/"
        },
        "id": "9J8NRzRrOBcD",
        "outputId": "f38332fe-5b09-47b9-8439-476ff5a1ff13"
      },
      "outputs": [
        {
          "data": {
            "text/plain": [
              "0      Jesper\n",
              "1       Jonas\n",
              "2    Pernille\n",
              "3       Helle\n",
              "Name: FirstName, dtype: object"
            ]
          },
          "execution_count": 140,
          "metadata": {},
          "output_type": "execute_result"
        }
      ],
      "source": [
        "df1.iloc[:,1] #index based"
      ]
    },
    {
      "cell_type": "code",
      "execution_count": null,
      "metadata": {
        "colab": {
          "base_uri": "https://localhost:8080/",
          "height": 112
        },
        "id": "duwAHqnyOHlH",
        "outputId": "e6791c09-e36c-40b1-e9a7-d92fb26b4250"
      },
      "outputs": [
        {
          "data": {
            "text/html": [
              "\n",
              "  <div id=\"df-bb1006c9-f300-4b1a-8289-16b477d8d5d0\">\n",
              "    <div class=\"colab-df-container\">\n",
              "      <div>\n",
              "<style scoped>\n",
              "    .dataframe tbody tr th:only-of-type {\n",
              "        vertical-align: middle;\n",
              "    }\n",
              "\n",
              "    .dataframe tbody tr th {\n",
              "        vertical-align: top;\n",
              "    }\n",
              "\n",
              "    .dataframe thead th {\n",
              "        text-align: right;\n",
              "    }\n",
              "</style>\n",
              "<table border=\"1\" class=\"dataframe\">\n",
              "  <thead>\n",
              "    <tr style=\"text-align: right;\">\n",
              "      <th></th>\n",
              "      <th>Female</th>\n",
              "      <th>Age</th>\n",
              "    </tr>\n",
              "  </thead>\n",
              "  <tbody>\n",
              "    <tr>\n",
              "      <th>0</th>\n",
              "      <td>False</td>\n",
              "      <td>22</td>\n",
              "    </tr>\n",
              "    <tr>\n",
              "      <th>1</th>\n",
              "      <td>False</td>\n",
              "      <td>33</td>\n",
              "    </tr>\n",
              "  </tbody>\n",
              "</table>\n",
              "</div>\n",
              "      <button class=\"colab-df-convert\" onclick=\"convertToInteractive('df-bb1006c9-f300-4b1a-8289-16b477d8d5d0')\"\n",
              "              title=\"Convert this dataframe to an interactive table.\"\n",
              "              style=\"display:none;\">\n",
              "        \n",
              "  <svg xmlns=\"http://www.w3.org/2000/svg\" height=\"24px\"viewBox=\"0 0 24 24\"\n",
              "       width=\"24px\">\n",
              "    <path d=\"M0 0h24v24H0V0z\" fill=\"none\"/>\n",
              "    <path d=\"M18.56 5.44l.94 2.06.94-2.06 2.06-.94-2.06-.94-.94-2.06-.94 2.06-2.06.94zm-11 1L8.5 8.5l.94-2.06 2.06-.94-2.06-.94L8.5 2.5l-.94 2.06-2.06.94zm10 10l.94 2.06.94-2.06 2.06-.94-2.06-.94-.94-2.06-.94 2.06-2.06.94z\"/><path d=\"M17.41 7.96l-1.37-1.37c-.4-.4-.92-.59-1.43-.59-.52 0-1.04.2-1.43.59L10.3 9.45l-7.72 7.72c-.78.78-.78 2.05 0 2.83L4 21.41c.39.39.9.59 1.41.59.51 0 1.02-.2 1.41-.59l7.78-7.78 2.81-2.81c.8-.78.8-2.07 0-2.86zM5.41 20L4 18.59l7.72-7.72 1.47 1.35L5.41 20z\"/>\n",
              "  </svg>\n",
              "      </button>\n",
              "      \n",
              "  <style>\n",
              "    .colab-df-container {\n",
              "      display:flex;\n",
              "      flex-wrap:wrap;\n",
              "      gap: 12px;\n",
              "    }\n",
              "\n",
              "    .colab-df-convert {\n",
              "      background-color: #E8F0FE;\n",
              "      border: none;\n",
              "      border-radius: 50%;\n",
              "      cursor: pointer;\n",
              "      display: none;\n",
              "      fill: #1967D2;\n",
              "      height: 32px;\n",
              "      padding: 0 0 0 0;\n",
              "      width: 32px;\n",
              "    }\n",
              "\n",
              "    .colab-df-convert:hover {\n",
              "      background-color: #E2EBFA;\n",
              "      box-shadow: 0px 1px 2px rgba(60, 64, 67, 0.3), 0px 1px 3px 1px rgba(60, 64, 67, 0.15);\n",
              "      fill: #174EA6;\n",
              "    }\n",
              "\n",
              "    [theme=dark] .colab-df-convert {\n",
              "      background-color: #3B4455;\n",
              "      fill: #D2E3FC;\n",
              "    }\n",
              "\n",
              "    [theme=dark] .colab-df-convert:hover {\n",
              "      background-color: #434B5C;\n",
              "      box-shadow: 0px 1px 3px 1px rgba(0, 0, 0, 0.15);\n",
              "      filter: drop-shadow(0px 1px 2px rgba(0, 0, 0, 0.3));\n",
              "      fill: #FFFFFF;\n",
              "    }\n",
              "  </style>\n",
              "\n",
              "      <script>\n",
              "        const buttonEl =\n",
              "          document.querySelector('#df-bb1006c9-f300-4b1a-8289-16b477d8d5d0 button.colab-df-convert');\n",
              "        buttonEl.style.display =\n",
              "          google.colab.kernel.accessAllowed ? 'block' : 'none';\n",
              "\n",
              "        async function convertToInteractive(key) {\n",
              "          const element = document.querySelector('#df-bb1006c9-f300-4b1a-8289-16b477d8d5d0');\n",
              "          const dataTable =\n",
              "            await google.colab.kernel.invokeFunction('convertToInteractive',\n",
              "                                                     [key], {});\n",
              "          if (!dataTable) return;\n",
              "\n",
              "          const docLinkHtml = 'Like what you see? Visit the ' +\n",
              "            '<a target=\"_blank\" href=https://colab.research.google.com/notebooks/data_table.ipynb>data table notebook</a>'\n",
              "            + ' to learn more about interactive tables.';\n",
              "          element.innerHTML = '';\n",
              "          dataTable['output_type'] = 'display_data';\n",
              "          await google.colab.output.renderOutput(dataTable, element);\n",
              "          const docLink = document.createElement('div');\n",
              "          docLink.innerHTML = docLinkHtml;\n",
              "          element.appendChild(docLink);\n",
              "        }\n",
              "      </script>\n",
              "    </div>\n",
              "  </div>\n",
              "  "
            ],
            "text/plain": [
              "   Female  Age\n",
              "0   False   22\n",
              "1   False   33"
            ]
          },
          "execution_count": 141,
          "metadata": {},
          "output_type": "execute_result"
        }
      ],
      "source": [
        "# Rows 1 and 2, columns 3 and 4 - the gender and age of Jesper & Jonas\n",
        "df1.iloc[[0,1],[2,3]]\n"
      ]
    },
    {
      "cell_type": "code",
      "execution_count": null,
      "metadata": {
        "colab": {
          "base_uri": "https://localhost:8080/",
          "height": 112
        },
        "id": "xUHIecqoOjhR",
        "outputId": "52157f82-6b84-4a19-e518-af191e795bc9"
      },
      "outputs": [
        {
          "data": {
            "text/html": [
              "\n",
              "  <div id=\"df-18cf2e60-e7ed-4e7a-9ce4-a696675e6ab4\">\n",
              "    <div class=\"colab-df-container\">\n",
              "      <div>\n",
              "<style scoped>\n",
              "    .dataframe tbody tr th:only-of-type {\n",
              "        vertical-align: middle;\n",
              "    }\n",
              "\n",
              "    .dataframe tbody tr th {\n",
              "        vertical-align: top;\n",
              "    }\n",
              "\n",
              "    .dataframe thead th {\n",
              "        text-align: right;\n",
              "    }\n",
              "</style>\n",
              "<table border=\"1\" class=\"dataframe\">\n",
              "  <thead>\n",
              "    <tr style=\"text-align: right;\">\n",
              "      <th></th>\n",
              "      <th>Female</th>\n",
              "      <th>Age</th>\n",
              "    </tr>\n",
              "  </thead>\n",
              "  <tbody>\n",
              "    <tr>\n",
              "      <th>0</th>\n",
              "      <td>False</td>\n",
              "      <td>22</td>\n",
              "    </tr>\n",
              "    <tr>\n",
              "      <th>1</th>\n",
              "      <td>False</td>\n",
              "      <td>33</td>\n",
              "    </tr>\n",
              "  </tbody>\n",
              "</table>\n",
              "</div>\n",
              "      <button class=\"colab-df-convert\" onclick=\"convertToInteractive('df-18cf2e60-e7ed-4e7a-9ce4-a696675e6ab4')\"\n",
              "              title=\"Convert this dataframe to an interactive table.\"\n",
              "              style=\"display:none;\">\n",
              "        \n",
              "  <svg xmlns=\"http://www.w3.org/2000/svg\" height=\"24px\"viewBox=\"0 0 24 24\"\n",
              "       width=\"24px\">\n",
              "    <path d=\"M0 0h24v24H0V0z\" fill=\"none\"/>\n",
              "    <path d=\"M18.56 5.44l.94 2.06.94-2.06 2.06-.94-2.06-.94-.94-2.06-.94 2.06-2.06.94zm-11 1L8.5 8.5l.94-2.06 2.06-.94-2.06-.94L8.5 2.5l-.94 2.06-2.06.94zm10 10l.94 2.06.94-2.06 2.06-.94-2.06-.94-.94-2.06-.94 2.06-2.06.94z\"/><path d=\"M17.41 7.96l-1.37-1.37c-.4-.4-.92-.59-1.43-.59-.52 0-1.04.2-1.43.59L10.3 9.45l-7.72 7.72c-.78.78-.78 2.05 0 2.83L4 21.41c.39.39.9.59 1.41.59.51 0 1.02-.2 1.41-.59l7.78-7.78 2.81-2.81c.8-.78.8-2.07 0-2.86zM5.41 20L4 18.59l7.72-7.72 1.47 1.35L5.41 20z\"/>\n",
              "  </svg>\n",
              "      </button>\n",
              "      \n",
              "  <style>\n",
              "    .colab-df-container {\n",
              "      display:flex;\n",
              "      flex-wrap:wrap;\n",
              "      gap: 12px;\n",
              "    }\n",
              "\n",
              "    .colab-df-convert {\n",
              "      background-color: #E8F0FE;\n",
              "      border: none;\n",
              "      border-radius: 50%;\n",
              "      cursor: pointer;\n",
              "      display: none;\n",
              "      fill: #1967D2;\n",
              "      height: 32px;\n",
              "      padding: 0 0 0 0;\n",
              "      width: 32px;\n",
              "    }\n",
              "\n",
              "    .colab-df-convert:hover {\n",
              "      background-color: #E2EBFA;\n",
              "      box-shadow: 0px 1px 2px rgba(60, 64, 67, 0.3), 0px 1px 3px 1px rgba(60, 64, 67, 0.15);\n",
              "      fill: #174EA6;\n",
              "    }\n",
              "\n",
              "    [theme=dark] .colab-df-convert {\n",
              "      background-color: #3B4455;\n",
              "      fill: #D2E3FC;\n",
              "    }\n",
              "\n",
              "    [theme=dark] .colab-df-convert:hover {\n",
              "      background-color: #434B5C;\n",
              "      box-shadow: 0px 1px 3px 1px rgba(0, 0, 0, 0.15);\n",
              "      filter: drop-shadow(0px 1px 2px rgba(0, 0, 0, 0.3));\n",
              "      fill: #FFFFFF;\n",
              "    }\n",
              "  </style>\n",
              "\n",
              "      <script>\n",
              "        const buttonEl =\n",
              "          document.querySelector('#df-18cf2e60-e7ed-4e7a-9ce4-a696675e6ab4 button.colab-df-convert');\n",
              "        buttonEl.style.display =\n",
              "          google.colab.kernel.accessAllowed ? 'block' : 'none';\n",
              "\n",
              "        async function convertToInteractive(key) {\n",
              "          const element = document.querySelector('#df-18cf2e60-e7ed-4e7a-9ce4-a696675e6ab4');\n",
              "          const dataTable =\n",
              "            await google.colab.kernel.invokeFunction('convertToInteractive',\n",
              "                                                     [key], {});\n",
              "          if (!dataTable) return;\n",
              "\n",
              "          const docLinkHtml = 'Like what you see? Visit the ' +\n",
              "            '<a target=\"_blank\" href=https://colab.research.google.com/notebooks/data_table.ipynb>data table notebook</a>'\n",
              "            + ' to learn more about interactive tables.';\n",
              "          element.innerHTML = '';\n",
              "          dataTable['output_type'] = 'display_data';\n",
              "          await google.colab.output.renderOutput(dataTable, element);\n",
              "          const docLink = document.createElement('div');\n",
              "          docLink.innerHTML = docLinkHtml;\n",
              "          element.appendChild(docLink);\n",
              "        }\n",
              "      </script>\n",
              "    </div>\n",
              "  </div>\n",
              "  "
            ],
            "text/plain": [
              "   Female  Age\n",
              "0   False   22\n",
              "1   False   33"
            ]
          },
          "execution_count": 142,
          "metadata": {},
          "output_type": "execute_result"
        }
      ],
      "source": [
        "#Same thing\n",
        "df1.loc[[0,1],['Female','Age']]"
      ]
    },
    {
      "cell_type": "code",
      "execution_count": null,
      "metadata": {
        "colab": {
          "base_uri": "https://localhost:8080/",
          "height": 112
        },
        "id": "XDKencHoOy5O",
        "outputId": "2d0e6323-cc8c-4899-a286-5cad2de7b82c"
      },
      "outputs": [
        {
          "data": {
            "text/html": [
              "\n",
              "  <div id=\"df-35a4c10c-bed7-43ad-85ee-b00c9130c022\">\n",
              "    <div class=\"colab-df-container\">\n",
              "      <div>\n",
              "<style scoped>\n",
              "    .dataframe tbody tr th:only-of-type {\n",
              "        vertical-align: middle;\n",
              "    }\n",
              "\n",
              "    .dataframe tbody tr th {\n",
              "        vertical-align: top;\n",
              "    }\n",
              "\n",
              "    .dataframe thead th {\n",
              "        text-align: right;\n",
              "    }\n",
              "</style>\n",
              "<table border=\"1\" class=\"dataframe\">\n",
              "  <thead>\n",
              "    <tr style=\"text-align: right;\">\n",
              "      <th></th>\n",
              "      <th>ID</th>\n",
              "      <th>FirstName</th>\n",
              "      <th>Female</th>\n",
              "      <th>Age</th>\n",
              "    </tr>\n",
              "  </thead>\n",
              "  <tbody>\n",
              "    <tr>\n",
              "      <th>0</th>\n",
              "      <td>1</td>\n",
              "      <td>Jesper</td>\n",
              "      <td>False</td>\n",
              "      <td>22</td>\n",
              "    </tr>\n",
              "    <tr>\n",
              "      <th>2</th>\n",
              "      <td>3</td>\n",
              "      <td>Pernille</td>\n",
              "      <td>True</td>\n",
              "      <td>44</td>\n",
              "    </tr>\n",
              "  </tbody>\n",
              "</table>\n",
              "</div>\n",
              "      <button class=\"colab-df-convert\" onclick=\"convertToInteractive('df-35a4c10c-bed7-43ad-85ee-b00c9130c022')\"\n",
              "              title=\"Convert this dataframe to an interactive table.\"\n",
              "              style=\"display:none;\">\n",
              "        \n",
              "  <svg xmlns=\"http://www.w3.org/2000/svg\" height=\"24px\"viewBox=\"0 0 24 24\"\n",
              "       width=\"24px\">\n",
              "    <path d=\"M0 0h24v24H0V0z\" fill=\"none\"/>\n",
              "    <path d=\"M18.56 5.44l.94 2.06.94-2.06 2.06-.94-2.06-.94-.94-2.06-.94 2.06-2.06.94zm-11 1L8.5 8.5l.94-2.06 2.06-.94-2.06-.94L8.5 2.5l-.94 2.06-2.06.94zm10 10l.94 2.06.94-2.06 2.06-.94-2.06-.94-.94-2.06-.94 2.06-2.06.94z\"/><path d=\"M17.41 7.96l-1.37-1.37c-.4-.4-.92-.59-1.43-.59-.52 0-1.04.2-1.43.59L10.3 9.45l-7.72 7.72c-.78.78-.78 2.05 0 2.83L4 21.41c.39.39.9.59 1.41.59.51 0 1.02-.2 1.41-.59l7.78-7.78 2.81-2.81c.8-.78.8-2.07 0-2.86zM5.41 20L4 18.59l7.72-7.72 1.47 1.35L5.41 20z\"/>\n",
              "  </svg>\n",
              "      </button>\n",
              "      \n",
              "  <style>\n",
              "    .colab-df-container {\n",
              "      display:flex;\n",
              "      flex-wrap:wrap;\n",
              "      gap: 12px;\n",
              "    }\n",
              "\n",
              "    .colab-df-convert {\n",
              "      background-color: #E8F0FE;\n",
              "      border: none;\n",
              "      border-radius: 50%;\n",
              "      cursor: pointer;\n",
              "      display: none;\n",
              "      fill: #1967D2;\n",
              "      height: 32px;\n",
              "      padding: 0 0 0 0;\n",
              "      width: 32px;\n",
              "    }\n",
              "\n",
              "    .colab-df-convert:hover {\n",
              "      background-color: #E2EBFA;\n",
              "      box-shadow: 0px 1px 2px rgba(60, 64, 67, 0.3), 0px 1px 3px 1px rgba(60, 64, 67, 0.15);\n",
              "      fill: #174EA6;\n",
              "    }\n",
              "\n",
              "    [theme=dark] .colab-df-convert {\n",
              "      background-color: #3B4455;\n",
              "      fill: #D2E3FC;\n",
              "    }\n",
              "\n",
              "    [theme=dark] .colab-df-convert:hover {\n",
              "      background-color: #434B5C;\n",
              "      box-shadow: 0px 1px 3px 1px rgba(0, 0, 0, 0.15);\n",
              "      filter: drop-shadow(0px 1px 2px rgba(0, 0, 0, 0.3));\n",
              "      fill: #FFFFFF;\n",
              "    }\n",
              "  </style>\n",
              "\n",
              "      <script>\n",
              "        const buttonEl =\n",
              "          document.querySelector('#df-35a4c10c-bed7-43ad-85ee-b00c9130c022 button.colab-df-convert');\n",
              "        buttonEl.style.display =\n",
              "          google.colab.kernel.accessAllowed ? 'block' : 'none';\n",
              "\n",
              "        async function convertToInteractive(key) {\n",
              "          const element = document.querySelector('#df-35a4c10c-bed7-43ad-85ee-b00c9130c022');\n",
              "          const dataTable =\n",
              "            await google.colab.kernel.invokeFunction('convertToInteractive',\n",
              "                                                     [key], {});\n",
              "          if (!dataTable) return;\n",
              "\n",
              "          const docLinkHtml = 'Like what you see? Visit the ' +\n",
              "            '<a target=\"_blank\" href=https://colab.research.google.com/notebooks/data_table.ipynb>data table notebook</a>'\n",
              "            + ' to learn more about interactive tables.';\n",
              "          element.innerHTML = '';\n",
              "          dataTable['output_type'] = 'display_data';\n",
              "          await google.colab.output.renderOutput(dataTable, element);\n",
              "          const docLink = document.createElement('div');\n",
              "          docLink.innerHTML = docLinkHtml;\n",
              "          element.appendChild(docLink);\n",
              "        }\n",
              "      </script>\n",
              "    </div>\n",
              "  </div>\n",
              "  "
            ],
            "text/plain": [
              "   ID FirstName  Female  Age\n",
              "0   1    Jesper   False   22\n",
              "2   3  Pernille    True   44"
            ]
          },
          "execution_count": 143,
          "metadata": {},
          "output_type": "execute_result"
        }
      ],
      "source": [
        "# Rows 1 and 3, all columns\n",
        "\n",
        "df1.iloc[[0,2],:] # don't forget to count index-1 when going from R to python"
      ]
    },
    {
      "cell_type": "code",
      "execution_count": null,
      "metadata": {
        "colab": {
          "base_uri": "https://localhost:8080/",
          "height": 143
        },
        "id": "b8vrtaLOPBuy",
        "outputId": "c7ea9ab2-1502-4215-f783-5518b9f2f9ed"
      },
      "outputs": [
        {
          "data": {
            "text/html": [
              "\n",
              "  <div id=\"df-b631133a-4fac-4d69-b3f3-49849f385099\">\n",
              "    <div class=\"colab-df-container\">\n",
              "      <div>\n",
              "<style scoped>\n",
              "    .dataframe tbody tr th:only-of-type {\n",
              "        vertical-align: middle;\n",
              "    }\n",
              "\n",
              "    .dataframe tbody tr th {\n",
              "        vertical-align: top;\n",
              "    }\n",
              "\n",
              "    .dataframe thead th {\n",
              "        text-align: right;\n",
              "    }\n",
              "</style>\n",
              "<table border=\"1\" class=\"dataframe\">\n",
              "  <thead>\n",
              "    <tr style=\"text-align: right;\">\n",
              "      <th></th>\n",
              "      <th>ID</th>\n",
              "      <th>FirstName</th>\n",
              "      <th>Female</th>\n",
              "      <th>Age</th>\n",
              "    </tr>\n",
              "  </thead>\n",
              "  <tbody>\n",
              "    <tr>\n",
              "      <th>1</th>\n",
              "      <td>2</td>\n",
              "      <td>Jonas</td>\n",
              "      <td>False</td>\n",
              "      <td>33</td>\n",
              "    </tr>\n",
              "    <tr>\n",
              "      <th>2</th>\n",
              "      <td>3</td>\n",
              "      <td>Pernille</td>\n",
              "      <td>True</td>\n",
              "      <td>44</td>\n",
              "    </tr>\n",
              "    <tr>\n",
              "      <th>3</th>\n",
              "      <td>4</td>\n",
              "      <td>Helle</td>\n",
              "      <td>True</td>\n",
              "      <td>55</td>\n",
              "    </tr>\n",
              "  </tbody>\n",
              "</table>\n",
              "</div>\n",
              "      <button class=\"colab-df-convert\" onclick=\"convertToInteractive('df-b631133a-4fac-4d69-b3f3-49849f385099')\"\n",
              "              title=\"Convert this dataframe to an interactive table.\"\n",
              "              style=\"display:none;\">\n",
              "        \n",
              "  <svg xmlns=\"http://www.w3.org/2000/svg\" height=\"24px\"viewBox=\"0 0 24 24\"\n",
              "       width=\"24px\">\n",
              "    <path d=\"M0 0h24v24H0V0z\" fill=\"none\"/>\n",
              "    <path d=\"M18.56 5.44l.94 2.06.94-2.06 2.06-.94-2.06-.94-.94-2.06-.94 2.06-2.06.94zm-11 1L8.5 8.5l.94-2.06 2.06-.94-2.06-.94L8.5 2.5l-.94 2.06-2.06.94zm10 10l.94 2.06.94-2.06 2.06-.94-2.06-.94-.94-2.06-.94 2.06-2.06.94z\"/><path d=\"M17.41 7.96l-1.37-1.37c-.4-.4-.92-.59-1.43-.59-.52 0-1.04.2-1.43.59L10.3 9.45l-7.72 7.72c-.78.78-.78 2.05 0 2.83L4 21.41c.39.39.9.59 1.41.59.51 0 1.02-.2 1.41-.59l7.78-7.78 2.81-2.81c.8-.78.8-2.07 0-2.86zM5.41 20L4 18.59l7.72-7.72 1.47 1.35L5.41 20z\"/>\n",
              "  </svg>\n",
              "      </button>\n",
              "      \n",
              "  <style>\n",
              "    .colab-df-container {\n",
              "      display:flex;\n",
              "      flex-wrap:wrap;\n",
              "      gap: 12px;\n",
              "    }\n",
              "\n",
              "    .colab-df-convert {\n",
              "      background-color: #E8F0FE;\n",
              "      border: none;\n",
              "      border-radius: 50%;\n",
              "      cursor: pointer;\n",
              "      display: none;\n",
              "      fill: #1967D2;\n",
              "      height: 32px;\n",
              "      padding: 0 0 0 0;\n",
              "      width: 32px;\n",
              "    }\n",
              "\n",
              "    .colab-df-convert:hover {\n",
              "      background-color: #E2EBFA;\n",
              "      box-shadow: 0px 1px 2px rgba(60, 64, 67, 0.3), 0px 1px 3px 1px rgba(60, 64, 67, 0.15);\n",
              "      fill: #174EA6;\n",
              "    }\n",
              "\n",
              "    [theme=dark] .colab-df-convert {\n",
              "      background-color: #3B4455;\n",
              "      fill: #D2E3FC;\n",
              "    }\n",
              "\n",
              "    [theme=dark] .colab-df-convert:hover {\n",
              "      background-color: #434B5C;\n",
              "      box-shadow: 0px 1px 3px 1px rgba(0, 0, 0, 0.15);\n",
              "      filter: drop-shadow(0px 1px 2px rgba(0, 0, 0, 0.3));\n",
              "      fill: #FFFFFF;\n",
              "    }\n",
              "  </style>\n",
              "\n",
              "      <script>\n",
              "        const buttonEl =\n",
              "          document.querySelector('#df-b631133a-4fac-4d69-b3f3-49849f385099 button.colab-df-convert');\n",
              "        buttonEl.style.display =\n",
              "          google.colab.kernel.accessAllowed ? 'block' : 'none';\n",
              "\n",
              "        async function convertToInteractive(key) {\n",
              "          const element = document.querySelector('#df-b631133a-4fac-4d69-b3f3-49849f385099');\n",
              "          const dataTable =\n",
              "            await google.colab.kernel.invokeFunction('convertToInteractive',\n",
              "                                                     [key], {});\n",
              "          if (!dataTable) return;\n",
              "\n",
              "          const docLinkHtml = 'Like what you see? Visit the ' +\n",
              "            '<a target=\"_blank\" href=https://colab.research.google.com/notebooks/data_table.ipynb>data table notebook</a>'\n",
              "            + ' to learn more about interactive tables.';\n",
              "          element.innerHTML = '';\n",
              "          dataTable['output_type'] = 'display_data';\n",
              "          await google.colab.output.renderOutput(dataTable, element);\n",
              "          const docLink = document.createElement('div');\n",
              "          docLink.innerHTML = docLinkHtml;\n",
              "          element.appendChild(docLink);\n",
              "        }\n",
              "      </script>\n",
              "    </div>\n",
              "  </div>\n",
              "  "
            ],
            "text/plain": [
              "   ID FirstName  Female  Age\n",
              "1   2     Jonas   False   33\n",
              "2   3  Pernille    True   44\n",
              "3   4     Helle    True   55"
            ]
          },
          "execution_count": 144,
          "metadata": {},
          "output_type": "execute_result"
        }
      ],
      "source": [
        "#Find the names of everyone over the age of 30 in the data\n",
        "df1[df1.Age > 30]"
      ]
    },
    {
      "cell_type": "code",
      "execution_count": null,
      "metadata": {
        "colab": {
          "base_uri": "https://localhost:8080/",
          "height": 143
        },
        "id": "2ORTGEiMPR-M",
        "outputId": "316198bb-edbd-454b-8a75-ba71822640f9"
      },
      "outputs": [
        {
          "data": {
            "text/html": [
              "\n",
              "  <div id=\"df-576a8553-2b34-46bc-9999-3c4d1e831d3e\">\n",
              "    <div class=\"colab-df-container\">\n",
              "      <div>\n",
              "<style scoped>\n",
              "    .dataframe tbody tr th:only-of-type {\n",
              "        vertical-align: middle;\n",
              "    }\n",
              "\n",
              "    .dataframe tbody tr th {\n",
              "        vertical-align: top;\n",
              "    }\n",
              "\n",
              "    .dataframe thead th {\n",
              "        text-align: right;\n",
              "    }\n",
              "</style>\n",
              "<table border=\"1\" class=\"dataframe\">\n",
              "  <thead>\n",
              "    <tr style=\"text-align: right;\">\n",
              "      <th></th>\n",
              "      <th>ID</th>\n",
              "      <th>FirstName</th>\n",
              "      <th>Female</th>\n",
              "      <th>Age</th>\n",
              "    </tr>\n",
              "  </thead>\n",
              "  <tbody>\n",
              "    <tr>\n",
              "      <th>1</th>\n",
              "      <td>2</td>\n",
              "      <td>Jonas</td>\n",
              "      <td>False</td>\n",
              "      <td>33</td>\n",
              "    </tr>\n",
              "    <tr>\n",
              "      <th>2</th>\n",
              "      <td>3</td>\n",
              "      <td>Pernille</td>\n",
              "      <td>True</td>\n",
              "      <td>44</td>\n",
              "    </tr>\n",
              "    <tr>\n",
              "      <th>3</th>\n",
              "      <td>4</td>\n",
              "      <td>Helle</td>\n",
              "      <td>True</td>\n",
              "      <td>55</td>\n",
              "    </tr>\n",
              "  </tbody>\n",
              "</table>\n",
              "</div>\n",
              "      <button class=\"colab-df-convert\" onclick=\"convertToInteractive('df-576a8553-2b34-46bc-9999-3c4d1e831d3e')\"\n",
              "              title=\"Convert this dataframe to an interactive table.\"\n",
              "              style=\"display:none;\">\n",
              "        \n",
              "  <svg xmlns=\"http://www.w3.org/2000/svg\" height=\"24px\"viewBox=\"0 0 24 24\"\n",
              "       width=\"24px\">\n",
              "    <path d=\"M0 0h24v24H0V0z\" fill=\"none\"/>\n",
              "    <path d=\"M18.56 5.44l.94 2.06.94-2.06 2.06-.94-2.06-.94-.94-2.06-.94 2.06-2.06.94zm-11 1L8.5 8.5l.94-2.06 2.06-.94-2.06-.94L8.5 2.5l-.94 2.06-2.06.94zm10 10l.94 2.06.94-2.06 2.06-.94-2.06-.94-.94-2.06-.94 2.06-2.06.94z\"/><path d=\"M17.41 7.96l-1.37-1.37c-.4-.4-.92-.59-1.43-.59-.52 0-1.04.2-1.43.59L10.3 9.45l-7.72 7.72c-.78.78-.78 2.05 0 2.83L4 21.41c.39.39.9.59 1.41.59.51 0 1.02-.2 1.41-.59l7.78-7.78 2.81-2.81c.8-.78.8-2.07 0-2.86zM5.41 20L4 18.59l7.72-7.72 1.47 1.35L5.41 20z\"/>\n",
              "  </svg>\n",
              "      </button>\n",
              "      \n",
              "  <style>\n",
              "    .colab-df-container {\n",
              "      display:flex;\n",
              "      flex-wrap:wrap;\n",
              "      gap: 12px;\n",
              "    }\n",
              "\n",
              "    .colab-df-convert {\n",
              "      background-color: #E8F0FE;\n",
              "      border: none;\n",
              "      border-radius: 50%;\n",
              "      cursor: pointer;\n",
              "      display: none;\n",
              "      fill: #1967D2;\n",
              "      height: 32px;\n",
              "      padding: 0 0 0 0;\n",
              "      width: 32px;\n",
              "    }\n",
              "\n",
              "    .colab-df-convert:hover {\n",
              "      background-color: #E2EBFA;\n",
              "      box-shadow: 0px 1px 2px rgba(60, 64, 67, 0.3), 0px 1px 3px 1px rgba(60, 64, 67, 0.15);\n",
              "      fill: #174EA6;\n",
              "    }\n",
              "\n",
              "    [theme=dark] .colab-df-convert {\n",
              "      background-color: #3B4455;\n",
              "      fill: #D2E3FC;\n",
              "    }\n",
              "\n",
              "    [theme=dark] .colab-df-convert:hover {\n",
              "      background-color: #434B5C;\n",
              "      box-shadow: 0px 1px 3px 1px rgba(0, 0, 0, 0.15);\n",
              "      filter: drop-shadow(0px 1px 2px rgba(0, 0, 0, 0.3));\n",
              "      fill: #FFFFFF;\n",
              "    }\n",
              "  </style>\n",
              "\n",
              "      <script>\n",
              "        const buttonEl =\n",
              "          document.querySelector('#df-576a8553-2b34-46bc-9999-3c4d1e831d3e button.colab-df-convert');\n",
              "        buttonEl.style.display =\n",
              "          google.colab.kernel.accessAllowed ? 'block' : 'none';\n",
              "\n",
              "        async function convertToInteractive(key) {\n",
              "          const element = document.querySelector('#df-576a8553-2b34-46bc-9999-3c4d1e831d3e');\n",
              "          const dataTable =\n",
              "            await google.colab.kernel.invokeFunction('convertToInteractive',\n",
              "                                                     [key], {});\n",
              "          if (!dataTable) return;\n",
              "\n",
              "          const docLinkHtml = 'Like what you see? Visit the ' +\n",
              "            '<a target=\"_blank\" href=https://colab.research.google.com/notebooks/data_table.ipynb>data table notebook</a>'\n",
              "            + ' to learn more about interactive tables.';\n",
              "          element.innerHTML = '';\n",
              "          dataTable['output_type'] = 'display_data';\n",
              "          await google.colab.output.renderOutput(dataTable, element);\n",
              "          const docLink = document.createElement('div');\n",
              "          docLink.innerHTML = docLinkHtml;\n",
              "          element.appendChild(docLink);\n",
              "        }\n",
              "      </script>\n",
              "    </div>\n",
              "  </div>\n",
              "  "
            ],
            "text/plain": [
              "   ID FirstName  Female  Age\n",
              "1   2     Jonas   False   33\n",
              "2   3  Pernille    True   44\n",
              "3   4     Helle    True   55"
            ]
          },
          "execution_count": 145,
          "metadata": {},
          "output_type": "execute_result"
        }
      ],
      "source": [
        "# or \"Query style\" (There are always many ways of doing the same thing)\n",
        "df1.query('Age > 30')"
      ]
    },
    {
      "cell_type": "markdown",
      "metadata": {
        "id": "2npJ4TzMziwJ"
      },
      "source": [
        "## Pandas Exercise: Analyzing Sales Data\n",
        "\n",
        "### Objective\n",
        "In this exercise, you will analyze a sales dataset and answer some questions. The dataset contains information about products, their sales, and the profits made.\n",
        "\n",
        "### Step 1: Importing Data\n",
        "First, import the Pandas library. We have already created a DataFrame named `sales_df` containing the sales data for you.\n",
        "\n",
        "### Step 2: Basic Analysis\n",
        "Perform some basic analyses on the data.\n",
        "\n",
        "1. Display the first 5 rows of the DataFrame.\n",
        "2. Get summary statistics using the `.describe()` method.\n",
        "\n",
        "### Step 3: Answer the Following Questions\n",
        "Using Pandas functionalities, please answer the following questions:\n",
        "\n",
        "1. What is the total sales amount?\n",
        "2. What is the average profit?\n",
        "3. Which product has the highest sales?\n",
        "4. Which product has the lowest profit?"
      ]
    },
    {
      "cell_type": "code",
      "execution_count": null,
      "metadata": {
        "id": "CHP5UmlzziwJ"
      },
      "outputs": [],
      "source": [
        "# Create a sample DataFrame\n",
        "data = {\n",
        "    'Product': ['A', 'B', 'A', 'C', 'A', 'B', 'C'],\n",
        "    'Sales': [1000, 1500, 900, 1200, 850, 1300, 1100],\n",
        "    'Profit': [200, 300, 180, 250, 170, 220, 210]\n",
        "}\n",
        "sales_df = pd.DataFrame(data)\n"
      ]
    },
    {
      "cell_type": "markdown",
      "metadata": {
        "id": "m02JpN4hXcro"
      },
      "source": [
        "## Further Studies and Recommendations\n",
        "\n",
        "If you're interested in diving deeper into Python, Pandas, and data analysis, here are some recommended resources that can help you on your learning journey.\n",
        "\n",
        "### Recommended Readings\n",
        "1. \"Python for Data Analysis\" by Wes McKinney - An excellent book to get you well-versed in using Pandas for data analysis.\n",
        "2. \"Hands-On Machine Learning with Scikit-Learn, Keras, and TensorFlow\" by Aurélien Géron - A great read for anyone looking to venture into machine learning after mastering Pandas.\n",
        "\n",
        "### Recommended DataCamp Courses\n",
        "1. [Data Manipulation with Pandas](https://www.datacamp.com/courses/data-manipulation-with-pandas) - A comprehensive course covering data manipulation using Pandas.\n",
        "2. [Pandas Joins for Spreadsheet Users](https://www.datacamp.com/courses/pandas-joins-for-spreadsheet-users) - A specialized course focused on joining methods in Pandas, useful for those transitioning from Excel.\n",
        "3. [Introduction to Data Science in Python](https://www.datacamp.com/courses/introduction-to-data-science-in-python) - A beginner-friendly course that touches on various aspects of data science, including data manipulation with Pandas.\n",
        "\n",
        "### Online Blogs and Tutorials\n",
        "1. [Pandas Official Documentation](https://pandas.pydata.org/docs/) - It’s always good to understand the official documentation.\n",
        "2. [Towards Data Science](https://towardsdatascience.com/) - A Medium publication with lots of tutorials and articles on data science, including Pandas.\n",
        "3. [Stack Overflow](https://stackoverflow.com/questions/tagged/pandas) - An invaluable resource for solving specific issues you might encounter.\n",
        "\n",
        "### YouTube Channels\n",
        "1. [Data School](https://www.youtube.com/user/dataschool) - Offers a variety of tutorials, including several focused on Pandas.\n",
        "2. [Corey Schafer](https://www.youtube.com/user/schafer5) - Includes tutorials on Python and various libraries including Pandas."
      ]
    },
    {
      "cell_type": "markdown",
      "metadata": {
        "id": "eHurhqUBziwK"
      },
      "source": []
    }
  ],
  "metadata": {
    "colab": {
      "name": "python data manipulation basics",
      "provenance": [],
      "include_colab_link": true
    },
    "kernelspec": {
      "display_name": "Python 3",
      "name": "python3"
    }
  },
  "nbformat": 4,
  "nbformat_minor": 0
}